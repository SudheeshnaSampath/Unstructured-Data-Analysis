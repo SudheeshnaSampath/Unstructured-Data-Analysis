{
 "cells": [
  {
   "cell_type": "markdown",
   "metadata": {
    "id": "PtYtHus47nPd"
   },
   "source": [
    "# Homework 3"
   ]
  },
  {
   "cell_type": "markdown",
   "metadata": {
    "id": "qgn2ehZ47nPk"
   },
   "source": [
    "Your name: Sudheeshna Sampath\n",
    "\n",
    "Your Andrew ID: sudheess\n",
    "\n",
    "Collaborators (if none, say \\\"none\\\"; do *not* leave this blank): none"
   ]
  },
  {
   "cell_type": "markdown",
   "metadata": {
    "id": "bHlxz5Hf7nPm"
   },
   "source": [
    "# Part 1: Email spam classification [25 points]"
   ]
  },
  {
   "cell_type": "markdown",
   "metadata": {
    "id": "Y1IMFXpQ7nPm"
   },
   "source": [
    "   - Get the data from: http://www.andrew.cmu.edu/user/georgech/preprocessed-enron-email-dataset.zip\n",
    "   - Unzip this into the same folder as this notebook, rename it to `email-data`\n",
    "   - The folder contains 3 subfolders:\n",
    "      - `ham` contains ham emails.\n",
    "      - `spam` contains spam emails.\n",
    "      - `testing` is a folder containing test emails for your classifier. The ham/spam label is in the filename.\n",
    "      \n",
    "**Important**: For this problem, do *not* use neural nets/deep nets."
   ]
  },
  {
   "cell_type": "markdown",
   "metadata": {
    "id": "Hynd4kvm7nPn"
   },
   "source": [
    "**(a) Print the number of ham and spam emails [1 point]**\n",
    "\n",
    "In addition to providing the code, respond to the following questions:\n",
    "\n",
    "   - Is this dataset imbalanced? Will this be problematic in training the model? \n",
    "   - If so, how would you address it? (You do *not* have to implement what you suggest here for later parts of the problem.)"
   ]
  },
  {
   "cell_type": "code",
   "execution_count": null,
   "metadata": {
    "colab": {
     "base_uri": "https://localhost:8080/"
    },
    "id": "tYTkATkN7nPo",
    "outputId": "116fd351-6ac0-4dd0-dabc-ca71037b8712"
   },
   "outputs": [
    {
     "name": "stdout",
     "output_type": "stream",
     "text": [
      "\u001b[31mERROR: Could not open requirements file: [Errno 2] No such file or directory: 'conda-forge'\u001b[0m\n"
     ]
    }
   ],
   "source": [
    "#your code here\n",
    "!pip install -c conda-forge google-colab"
   ]
  },
  {
   "cell_type": "markdown",
   "metadata": {
    "id": "J24qj_hp7nPr"
   },
   "source": [
    "**Your answers to the above questions:**\n",
    "    Answer:\n",
    "    - The dataset is imbalanced. If the imbalance is not accounted for properly, it will result in lower accuracy in predicting majority and minority class.\n",
    "    - Choosing proper evaluation metrics such as f1 score (F1 score keeps the balance between precision and recall and improves the score only if the classifier identifies more of a certain class correctly), resampling data, etc"
   ]
  },
  {
   "cell_type": "markdown",
   "metadata": {
    "id": "J7IgsBgw7nPs"
   },
   "source": [
    "**(b) Construct the documents [4 points]**\n",
    " \n",
    "   - Provided below is a function that returns a document present in a file given a fileName.\n",
    "   - The function performs some preprocessing to (1) remove punctuation, (2),(3) remove whitespace and (4) lowercase all words.\n",
    "   - Use this function to construct a list of documents.\n",
    "   - Also construct a list of document labels containing `1` for spam and `0` for ham."
   ]
  },
  {
   "cell_type": "code",
   "execution_count": 104,
   "metadata": {
    "id": "WFU9HRw17nPu"
   },
   "outputs": [],
   "source": [
    "import re\n",
    "import string\n",
    "import codecs\n",
    "\n",
    "def make_word_list(path):\n",
    "    \n",
    "    with codecs.open(path, \"r\", encoding='utf-8', errors='ignore') as f:\n",
    "        corpus_text = f.read()\n",
    "\n",
    "    for c in string.punctuation:\n",
    "        corpus_text = corpus_text.replace(c, \"\")  # -- (1)\n",
    "    \n",
    "    text = re.sub(r'\\S*\\d\\S*','',corpus_text) # -- (2)\n",
    "    text = re.sub(r'[^\\w\\s]','',text)         # -- (3)\n",
    "    \n",
    "    text = text.lower().split()           # -- (4)         \n",
    "    \n",
    "    li = []\n",
    "    for token in text:\n",
    "        li.append(token)\n",
    "\n",
    "    return \" \".join(li)"
   ]
  },
  {
   "cell_type": "code",
   "execution_count": 105,
   "metadata": {
    "colab": {
     "base_uri": "https://localhost:8080/"
    },
    "id": "sq5h5MQVkJ8N",
    "outputId": "474c1fd2-2e6c-45f9-fcb7-ce0f92b8f3d5"
   },
   "outputs": [
    {
     "name": "stdout",
     "output_type": "stream",
     "text": [
      "Drive already mounted at /content/drive; to attempt to forcibly remount, call drive.mount(\"/content/drive\", force_remount=True).\n"
     ]
    }
   ],
   "source": [
    "from google.colab import drive\n",
    "drive.mount('/content/drive')"
   ]
  },
  {
   "cell_type": "code",
   "execution_count": 106,
   "metadata": {
    "colab": {
     "base_uri": "https://localhost:8080/"
    },
    "id": "gMG7vtoe7nPv",
    "outputId": "974dee78-ddd8-4d2f-ea41-b9b13bb86bd8"
   },
   "outputs": [
    {
     "name": "stdout",
     "output_type": "stream",
     "text": [
      "Document List length -Train       :  5171\n",
      "Document Label List length -Train :  5171\n",
      "Document List length -Test        :  100\n",
      "Document Label List length -Test  :  100\n"
     ]
    }
   ],
   "source": [
    "#your code here\n",
    "import glob\n",
    "import os\n",
    "document_list = []\n",
    "document_label_list=[]\n",
    "test_doc_list=[]\n",
    "test_doc_label_list=[]\n",
    "for foldername in glob.glob(f\"/content/drive/MyDrive/Colab Notebooks/email-data/*\"):\n",
    "  for filename in glob.glob(foldername+\"/*.txt\"):\n",
    "    if 'testing' not in foldername:\n",
    "      document_list.append(make_word_list(filename))\n",
    "      if 'spam' in filename:\n",
    "        document_label_list.append(1)\n",
    "      elif 'ham' in filename:\n",
    "        document_label_list.append(0)\n",
    "    else:\n",
    "      test_doc_list.append(make_word_list(filename))\n",
    "      if 'spam' in filename:\n",
    "         test_doc_label_list.append(1)\n",
    "      elif 'ham' in filename:\n",
    "         test_doc_label_list.append(0)\n",
    "\n",
    "print(\"Document List length -Train       : \", len(document_list))\n",
    "print(\"Document Label List length -Train : \", len(document_label_list))\n",
    "print(\"Document List length -Test        : \", len(test_doc_list))\n",
    "print(\"Document Label List length -Test  : \", len(test_doc_label_list))"
   ]
  },
  {
   "cell_type": "markdown",
   "metadata": {
    "id": "Bett9PnH7nPw"
   },
   "source": [
    "**(c) Construct the document matrix `X` as a matrix of word frequencies [5 points]**\n",
    "\n",
    "   - Use the `CountVectorizer` from scikit-learn.\n",
    "   - Set `min_df=50`; this drops words that don't occur in at least 50 documents.\n",
    "   - Set `stop_words=\"english\"` and `max_df=0.8` to filter out stop-words.\n",
    "   - Print the size of the vocabulary (number of unique words)"
   ]
  },
  {
   "cell_type": "code",
   "execution_count": 108,
   "metadata": {
    "colab": {
     "base_uri": "https://localhost:8080/"
    },
    "id": "xUaCV1Iz7nPw",
    "outputId": "28c7bd90-3fff-4571-9276-c7c3a4fde3ac"
   },
   "outputs": [
    {
     "name": "stdout",
     "output_type": "stream",
     "text": [
      "1680\n"
     ]
    }
   ],
   "source": [
    "#your code here\n",
    "\n",
    "from sklearn.feature_extraction.text import CountVectorizer\n",
    "vectorizer = CountVectorizer(stop_words='english',max_df=0.8,min_df=50)\n",
    "X = vectorizer.fit_transform(document_list)\n",
    "X = X.toarray()\n",
    "print(len(vectorizer.vocabulary_))\n",
    "\n",
    "document_label_array = np.array(document_label_list)"
   ]
  },
  {
   "cell_type": "markdown",
   "metadata": {
    "id": "hbJkdgGh7nPx"
   },
   "source": [
    "**(d) k-NN and random forest: Hyperparameter selection [5 points]**\n",
    "\n",
    "Now that you have your documents and labels as training data, you can perform 5-fold cross-validation to select the hyperparameters for different learning algorithms.\n",
    "\n",
    "The hyperparameter with the best performance averaged across 5 folds is chosen. Use the **weighted F1-score** as the evaluation metric (i.e., for the `f1_score` function imported from `sklearn.metrics`, be sure to use the parameter `average='weighted'`).\n",
    "\n",
    "   - k-NN: Select `k` from a range of values of your choice.\n",
    "   - Random forest: Select `max_features` **and** `min_samples_leaf` from a grid of your choice.\n",
    "\n",
    "Store each chosen hyperparameter as `best_k`, `best_max_features`, and `best_min_samples_leaf` respectively.\n",
    "\n",
    "Provided is some seed code for cross-validation that you may modify and reuse. Do not use the cross-validations score or grid-search functions from scikit-learn (you may use `KFold`)."
   ]
  },
  {
   "cell_type": "code",
   "execution_count": 15,
   "metadata": {
    "id": "nHlESMaylumu"
   },
   "outputs": [],
   "source": [
    "import numpy as np\n",
    "from sklearn.model_selection import KFold\n",
    "from sklearn.metrics import f1_score\n",
    "from sklearn.ensemble import RandomForestClassifier\n",
    "from sklearn.neighbors import KNeighborsClassifier"
   ]
  },
  {
   "cell_type": "code",
   "execution_count": 111,
   "metadata": {
    "colab": {
     "base_uri": "https://localhost:8080/"
    },
    "id": "eC4Rv2X77nPy",
    "outputId": "98dbd345-01a2-44ea-f21d-d11fc460d294"
   },
   "outputs": [
    {
     "name": "stdout",
     "output_type": "stream",
     "text": [
      "Best hyperparameter setting: (1, 41, 1)\n"
     ]
    }
   ],
   "source": [
    "num_folds = 5\n",
    "k_fold = KFold(num_folds)\n",
    "num_features = X.shape[1]\n",
    "hyperparameter_settings = [(k,max_features, min_samples_leaf)\n",
    "                            for k in 2**np.arange(0, 8)\n",
    "                            for max_features in [int(np.ceil(np.sqrt(num_features) / 4)),\n",
    "                                                int(np.ceil(np.sqrt(num_features))),\n",
    "                                                int(np.ceil(np.sqrt(num_features) * 4))]\n",
    "                            for min_samples_leaf in [1, 2, 4, 8, 16]] # fill this with hyperparameter settings that you want to try\n",
    "\n",
    "best_hyperparam_setting = None\n",
    "best_cross_val_score_knn = -np.inf\n",
    "best_cross_val_score = -np.inf  # assumes that a higher score is better\n",
    "for hyperparam_setting in hyperparameter_settings:\n",
    "    fold_scores = []\n",
    "    fold_scores_knn=[]\n",
    "    # your code to train and score the training data here\n",
    "    best_k,best_max_features,best_min_samples_leaf = hyperparam_setting\n",
    "    \n",
    "    for train_index, validation_index in k_fold.split(X):\n",
    "          train_features = X[train_index]\n",
    "          train_labels = document_label_array[train_index]\n",
    "          val_features = X[validation_index]\n",
    "          val_labels = document_label_array[validation_index]\n",
    "\n",
    "          knn_classifier = KNeighborsClassifier(n_neighbors=best_k)\n",
    "          knn_classifier.fit(train_features, train_labels)\n",
    "          predicted_knn_val_labels = knn_classifier.predict(val_features)\n",
    "          fold_scores_knn.append(f1_score(val_labels, predicted_knn_val_labels, average='weighted'))\n",
    "\n",
    "          rf_classifier = RandomForestClassifier(max_features=best_max_features, min_samples_leaf=best_min_samples_leaf, random_state=0)\n",
    "          rf_classifier.fit(train_features, train_labels)\n",
    "          predicted_val_labels = rf_classifier.predict(val_features)\n",
    "          \n",
    "          fold_scores.append(f1_score(val_labels, predicted_val_labels, average='weighted'))\n",
    "    \n",
    "    cross_val_score_knn = np.mean(fold_scores_knn)\n",
    "    if cross_val_score_knn > best_cross_val_score_knn:  # assumes that a higher score is better\n",
    "        best_cross_val_score_knn = cross_val_score_knn\n",
    "        best_k = k\n",
    "        \n",
    "    cross_val_score = np.mean(fold_scores)\n",
    "    if cross_val_score > best_cross_val_score:  # assumes that a higher score is better\n",
    "        best_cross_val_score = cross_val_score\n",
    "        best_hyperparam_setting = hyperparam_setting\n",
    "\n",
    "\n",
    "print('Best hyperparameter setting:', best_hyperparam_setting)"
   ]
  },
  {
   "cell_type": "markdown",
   "metadata": {
    "id": "kpfD00p-7nPy"
   },
   "source": [
    "**(e) Classifier testing: Precision-Recall and ROC curves [10 points]**\n",
    "\n",
    "   - Use the best hyperparameters for each classifier from the previous question to **train** your classifiers on the full training data.\n",
    "   - Use test emails in the `testing` folder to **test** your classifiers and construct the plots below.\n",
    "\n",
    "Things to plot:\n",
    "\n",
    "   - Construct one plot containing 2 ROC curves, one for each classifier. (We vary the threshold probability of declaring an email to be spam to obtain these plots.)\n",
    "   - In the legend of this plot, display the AUC for each classifier.\n",
    "   - Construct one plot containing 2 precision-recall curves, one for each classifier.\n",
    "   - In the legend of each plot, display the average precision for each classifier using the sklearn function [`average_precision_score`](https://scikit-learn.org/stable/modules/generated/sklearn.metrics.average_precision_score.html#sklearn.metrics.average_precision_score); average precision is essentially an approximation of the area under the precision-recall curve that avoids being overly optimistic.\n",
    "\n",
    "Note that these plots are on the test data: you will have to read in this data, construct a document matrix and labels. Some words in the test data may not have been present in the training data: there are multiple ways to address this, briefly describe your approach.\n",
    "\n",
    "Things to answer:\n",
    "\n",
    "   - Of the ROC and Precision-Recall curves, which one would you use for this task and why?\n",
    "   - Which classifier is the best, according to your chosen curves?"
   ]
  },
  {
   "cell_type": "code",
   "execution_count": 38,
   "metadata": {
    "id": "yt3h9SLXpPR9"
   },
   "outputs": [],
   "source": [
    "from sklearn import metrics\n",
    "import matplotlib.pyplot as plt\n",
    "from sklearn.metrics import precision_recall_curve\n",
    "from sklearn.metrics import average_precision_score\n",
    "from sklearn.metrics import accuracy_score"
   ]
  },
  {
   "cell_type": "code",
   "execution_count": null,
   "metadata": {
    "colab": {
     "base_uri": "https://localhost:8080/",
     "height": 573
    },
    "id": "vZ5TZwmf7nPz",
    "outputId": "376b0e5a-f370-4830-fcfc-50b455860c0d"
   },
   "outputs": [
    {
     "data": {
      "image/png": "[encoded data removed]",
      "text/plain": [
       "<Figure size 432x288 with 1 Axes>"
      ]
     },
     "metadata": {
      "needs_background": "light"
     },
     "output_type": "display_data"
    },
    {
     "data": {
      "image/png": "[encoded data removed]",
      "text/plain": [
       "<Figure size 432x288 with 1 Axes>"
      ]
     },
     "metadata": {
      "needs_background": "light"
     },
     "output_type": "display_data"
    }
   ],
   "source": [
    "#your code here\n",
    "test_doc_label_array = np.array(test_doc_label_list)\n",
    "best_k, best_max_features, best_min_samples_split = best_hyperparam_setting\n",
    "#best_k, best_max_features, best_min_samples_split = 1,41,1\n",
    "\n",
    "#knn\n",
    "test_X = vectorizer.transform(test_doc_list)\n",
    "test_knn_classifier = KNeighborsClassifier(n_neighbors=best_k)\n",
    "test_knn_classifier.fit(X, document_label_array)\n",
    "predicted_knn_test_labels = test_knn_classifier.predict(test_X)\n",
    "knn_scores = test_knn_classifier.predict_proba(test_X)[:,1]\n",
    "\n",
    "##random forest\n",
    "test_rf_classifier = RandomForestClassifier(max_features=best_max_features,min_samples_leaf=best_min_samples_split,random_state=0)\n",
    "test_rf_classifier.fit(X, document_label_array)\n",
    "predicted_rf_test_labels = test_rf_classifier.predict(test_X)\n",
    "rf_scores = test_rf_classifier.predict_proba(test_X)[:,1]\n",
    "\n",
    "#create ROC curve and AUC\n",
    "knnfpr, knntpr, knnthreshold  = metrics.roc_curve(test_doc_label_array,  knn_scores)\n",
    "knnauc = metrics.roc_auc_score(test_doc_label_array,  knn_scores)\n",
    "plt.plot(knnfpr,knntpr,label=\"KNN AUC-\"+str(knnauc))\n",
    "\n",
    "rffpr, rftpr, rfthreshold  = metrics.roc_curve(test_doc_label_array,  rf_scores)\n",
    "rfauc = metrics.roc_auc_score(test_doc_label_array,  rf_scores)\n",
    "plt.plot(rffpr,rftpr,label=\"RF AUC-\"+str(rfauc))\n",
    "\n",
    "plt.title(\"ROC Curve\")\n",
    "plt.ylabel('True Positive Rate')\n",
    "plt.xlabel('False Positive Rate')\n",
    "plt.legend(loc=4)\n",
    "plt.show()\n",
    "\n",
    "#precision_recall\n",
    "knnprecision, knnrecall, knnthresholds  = precision_recall_curve(test_doc_label_array, knn_scores)\n",
    "knn_avg_precision_score = average_precision_score(test_doc_label_array, knn_scores)\n",
    "plt.plot(knnprecision,knnrecall,label=\"KNN Avg Precision Score-\"+str(knn_avg_precision_score))\n",
    "\n",
    "rfprecision, rfrecall, rfthresholds  = precision_recall_curve(test_doc_label_array, rf_scores)\n",
    "rf_avg_precision_score = average_precision_score(test_doc_label_array, rf_scores)\n",
    "plt.plot(rfprecision,rfrecall,label=\"RF Avg Precision Score: \"+str(rf_avg_precision_score))\n",
    "\n",
    "plt.title(\"Precision-Recall\")\n",
    "plt.ylabel('Precision')\n",
    "plt.xlabel('Recall')\n",
    "plt.legend(loc=4)\n",
    "plt.show()"
   ]
  },
  {
   "cell_type": "markdown",
   "metadata": {
    "id": "UGX4Fzr67nPz"
   },
   "source": [
    "Precision Recall Curve is preffered over ROC curve because Precision Recall curve gives better results for imbalanced data. ROC is also overly optimistic in such cases.\n",
    "\n",
    "Random forest is better than KNN in our chosen curves as dataset imbalanced and random forest can avoid overfitting due to bias. The AUC and Avg Precision Score is higher for Random Forest. "
   ]
  },
  {
   "cell_type": "markdown",
   "metadata": {
    "id": "DibBayGn7nPz"
   },
   "source": [
    "# Part 2: Representation Learning [40 points]\n",
    "\n",
    "Before getting started, please put the attached file `pretrained_convnet.pt` in the same directory as this notebook.\n",
    "\n",
    "Recall from lecture the \"crumpled paper analogy\": in a neural net, as you progress through the layers from input to output, the layers should be \"unfolding the original space\" to disentangle the classes. When you get to the layer before the classifier, you should've changed the data representation into something that makes classification easy. **We will refer to the layer before the classifier in the neural net as the bottleneck layer.**\n",
    "\n",
    "In this problem, you will be using an output of a bottleneck layer from pre-trained CNN as input features for a few simple classifiers. The CNN provided was trained with the Fashion MNIST dataset which consists of 10 classes of 28x28 grayscale images; this dataset is very similar to MNIST in that there are 10 classes with images that are the same size as MNIST and in fact even the training and test set sizes are the same (60,000 and 10,000 respectively). However, the classes are not the digits 0 through 9. Instead the classes are:\n",
    "\n",
    "| Class | Description |\n",
    "| ----- | :---------: |\n",
    "| 0     | T-shirt/top |\n",
    "| 1     | Trouser     |\n",
    "| 2     | Pullover    |\n",
    "| 3     | Dress       |\n",
    "| 4     | Coat        |\n",
    "| 5     | Sandal      |\n",
    "| 6     | Shirt       |\n",
    "| 7     | Sneaker     |\n",
    "| 8     | Bag         |\n",
    "| 9     | Ankle boot  |"
   ]
  },
  {
   "cell_type": "code",
   "execution_count": null,
   "metadata": {
    "id": "o8g97h-JmuVD"
   },
   "outputs": [],
   "source": [
    "# !pip install torch==1.10.0\n",
    "!pip install torch torchvision\n",
    "!pip install torch torchvision torchaudio\n",
    "!pip install torchsummaryX\n",
    "!pip install pytorch-nlp\n",
    "!pip install torch==1.3.0 torchvision==0.4.1"
   ]
  },
  {
   "cell_type": "code",
   "execution_count": 3,
   "metadata": {
    "colab": {
     "base_uri": "https://localhost:8080/"
    },
    "id": "qwD5E0Kx7d7N",
    "outputId": "fc451f14-7e2e-4ae9-a347-3ceeb3872b7f"
   },
   "outputs": [
    {
     "name": "stdout",
     "output_type": "stream",
     "text": [
      "/content/drive/MyDrive/Colab Notebooks\n"
     ]
    }
   ],
   "source": [
    "%cd /content/drive/MyDrive/Colab Notebooks/\n",
    "!python3 UDA_pytorch_utils.py"
   ]
  },
  {
   "cell_type": "markdown",
   "metadata": {
    "id": "qLJ1S1Hv7nPz"
   },
   "source": [
    "Let's start with some imports."
   ]
  },
  {
   "cell_type": "code",
   "execution_count": 4,
   "metadata": {
    "id": "qU8C16l97nP0"
   },
   "outputs": [],
   "source": [
    "%matplotlib inline\n",
    "import matplotlib.pyplot as plt\n",
    "import numpy as np\n",
    "import os\n",
    "os.environ['KMP_DUPLICATE_LIB_OK'] = 'True'\n",
    "\n",
    "import torch\n",
    "import torch.nn as nn\n",
    "import torchvision\n",
    "import torchvision.transforms as transforms\n",
    "from torchsummaryX import summary\n",
    "\n",
    "from UDA_pytorch_utils import UDA_pytorch_classifier_fit, \\\n",
    "        UDA_plot_train_val_accuracy_vs_epoch, UDA_pytorch_classifier_predict, \\\n",
    "        UDA_pytorch_model_transform, UDA_compute_accuracy"
   ]
  },
  {
   "cell_type": "markdown",
   "metadata": {
    "id": "iojQDgO-7nP0"
   },
   "source": [
    "**Loading in the data.** We first load the Fashion MNIST dataset and plot some example images."
   ]
  },
  {
   "cell_type": "code",
   "execution_count": 42,
   "metadata": {
    "colab": {
     "base_uri": "https://localhost:8080/",
     "height": 248
    },
    "id": "2itdpmGm7nP0",
    "outputId": "0a14cb3e-a7a1-4219-f6d9-b6a7d9969fa3"
   },
   "outputs": [
    {
     "data": {
      "image/png": "[encoded data removed]",
      "text/plain": [
       "<Figure size 432x288 with 64 Axes>"
      ]
     },
     "metadata": {
      "needs_background": "light"
     },
     "output_type": "display_data"
    }
   ],
   "source": [
    "# do not modify this cell\n",
    "train_dataset = torchvision.datasets.FashionMNIST(root='data/',\n",
    "                                                  train=True,\n",
    "                                                  transform=transforms.ToTensor(),\n",
    "                                                  download=True)\n",
    "\n",
    "train_images = torch.tensor([image.numpy() for image, label in train_dataset])\n",
    "train_labels = torch.tensor([label for image, label in train_dataset])\n",
    "\n",
    "test_dataset = torchvision.datasets.FashionMNIST(root='data/',\n",
    "                                                 train=False,\n",
    "                                                 transform=transforms.ToTensor(),\n",
    "                                                 download=True)\n",
    "\n",
    "test_images = torch.tensor([image.numpy() for image, label in test_dataset])\n",
    "test_labels = torch.tensor([label for image, label in test_dataset])\n",
    "\n",
    "# show some of the first training images\n",
    "square_grid_num_rows = 8\n",
    "num_images_to_show = square_grid_num_rows ** 2\n",
    "for idx in range(num_images_to_show):\n",
    "    plt.subplot(square_grid_num_rows, square_grid_num_rows, idx + 1)\n",
    "    plt.imshow(train_images[idx][0], cmap='gray')\n",
    "    plt.axis('off')"
   ]
  },
  {
   "cell_type": "markdown",
   "metadata": {
    "id": "nmGtskF77nP0"
   },
   "source": [
    "**(a) [5 points]** Select train and test data that belong to classes 2 (corresponding to pullovers) or 6 (corresponding to fancier shirts than t-shirts; note: class 0 corresponds to t-shirts), i.e., subsample all the data that has label 2 or 6. Save the variables as `x_train`, `x_test`, `y_train`, `y_test`. From now on, we are only dealing with the images that are in classes 2 (pullovers) or 6 (shirts). Moreover, in `y_train` and `y_test`, please renumber the two classes so that pullovers now instead corresponds to 0 and shirts corresponds to 1 (we will consider shirts to be the \"positive\" class and pullovers to be the \"negative\" class)."
   ]
  },
  {
   "cell_type": "code",
   "execution_count": 43,
   "metadata": {
    "id": "5l5IBwbL7nP1"
   },
   "outputs": [],
   "source": [
    "# write your code here\n",
    "\n",
    "x_train = torch.tensor([image.numpy() for image, label in train_dataset if label==2 or label==6])\n",
    "y_train = torch.tensor([label for image, label in train_dataset if label==2 or label==6])\n",
    "y_train = torch.where(y_train==2,torch.tensor(0),torch.tensor(1))\n",
    "\n",
    "x_test = torch.tensor([image.numpy() for image, label in test_dataset if label==2 or label==6])\n",
    "y_test = torch.tensor([label for image, label in test_dataset if label==2 or label==6])\n",
    "y_test = torch.where(y_test==2,torch.tensor(0),torch.tensor(1))"
   ]
  },
  {
   "cell_type": "code",
   "execution_count": 44,
   "metadata": {
    "colab": {
     "base_uri": "https://localhost:8080/"
    },
    "id": "H3MPwbde7nP1",
    "outputId": "fa6a9f40-fa32-4cb2-defe-8120046b00e0"
   },
   "outputs": [
    {
     "name": "stdout",
     "output_type": "stream",
     "text": [
      "torch.Size([12000, 1, 28, 28]) torch.Size([12000])\n",
      "torch.Size([2000, 1, 28, 28]) torch.Size([2000])\n"
     ]
    }
   ],
   "source": [
    "# do not modify this cell\n",
    "print(x_train.shape, y_train.shape)\n",
    "print(x_test.shape, y_test.shape)"
   ]
  },
  {
   "cell_type": "markdown",
   "metadata": {
    "id": "ZakjWZGh7nP1"
   },
   "source": [
    "We will make some t-SNE visualizations shortly and using all the training data will be too slow. We reduce the size of the training dataset by randomly subsampling 1000 samples from `x_train`/`y_train` pairs and saving the subsampled versions as `x_train_small`/`y_train_small` (the i-th image in `x_train_small` should have its label given by the i-th entry in `y_train_small`). We have provided the indices of which 1000 samples to use (from within `x_train`/`y_train`)."
   ]
  },
  {
   "cell_type": "code",
   "execution_count": 45,
   "metadata": {
    "id": "BPu3N7R67nP1"
   },
   "outputs": [],
   "source": [
    "# do not modify this cell\n",
    "np.random.seed(0)\n",
    "random_sample = np.random.permutation(len(x_train))[:1000]"
   ]
  },
  {
   "cell_type": "code",
   "execution_count": 46,
   "metadata": {
    "colab": {
     "base_uri": "https://localhost:8080/"
    },
    "id": "cxp_oIGP7nP1",
    "outputId": "f9905692-1dbb-41df-8f47-eb3cb25f689b"
   },
   "outputs": [
    {
     "name": "stdout",
     "output_type": "stream",
     "text": [
      "torch.Size([1000, 1, 28, 28]) torch.Size([1000])\n"
     ]
    }
   ],
   "source": [
    "# write your code here\n",
    "x_train_small =  x_train[random_sample].clone()\n",
    "y_train_small = y_train[random_sample].clone()\n",
    "\n",
    "print(x_train_small.shape, y_train_small.shape)"
   ]
  },
  {
   "cell_type": "markdown",
   "metadata": {
    "id": "kl4wSGUb7nP1"
   },
   "source": [
    "**(b) [9 points]** We are ready to load the pre-trained convnet. The bottleneck layer is right before the final linear layer and corresponds to the output of a ReLU that has 84 values. **We refer to the output of this ReLU as the bottleneck feature vector representation of whatever the input is.**\n",
    "\n",
    "Note that the convnet was pre-trained using the entire training dataset which consists of 60,000 samples and all 10 labels."
   ]
  },
  {
   "cell_type": "code",
   "execution_count": 47,
   "metadata": {
    "colab": {
     "base_uri": "https://localhost:8080/",
     "height": 1000
    },
    "id": "ZzKT3xV37nP1",
    "outputId": "5ef2f852-8d5a-4642-b747-d979dd37d78a"
   },
   "outputs": [
    {
     "name": "stdout",
     "output_type": "stream",
     "text": [
      "[Summary of pre-trained convnet]\n",
      "=========================================================\n",
      "        Kernel Shape     Output Shape   Params Mult-Adds\n",
      "Layer                                                   \n",
      "0_0     [1, 6, 3, 3]   [1, 6, 26, 26]     60.0   36.504k\n",
      "1_1                -   [1, 6, 26, 26]        -         -\n",
      "2_2                -   [1, 6, 13, 13]        -         -\n",
      "3_3    [6, 16, 3, 3]  [1, 16, 11, 11]    880.0  104.544k\n",
      "4_4                -  [1, 16, 11, 11]        -         -\n",
      "5_5                -    [1, 16, 5, 5]        -         -\n",
      "6_6                -         [1, 400]        -         -\n",
      "7_7       [400, 120]         [1, 120]   48.12k     48.0k\n",
      "8_8                -         [1, 120]        -         -\n",
      "9_9        [120, 84]          [1, 84]  10.164k    10.08k\n",
      "10_10              -          [1, 84]        -         -\n",
      "11_11       [84, 10]          [1, 10]    850.0     840.0\n",
      "---------------------------------------------------------\n",
      "                        Totals\n",
      "Total params           60.074k\n",
      "Trainable params       60.074k\n",
      "Non-trainable params       0.0\n",
      "Mult-Adds             199.968k\n",
      "=========================================================\n",
      "\n",
      "[Summary of the pre-trained convnet up to the bottleneck layer]\n",
      "=========================================================\n",
      "        Kernel Shape     Output Shape   Params Mult-Adds\n",
      "Layer                                                   \n",
      "0_0     [1, 6, 3, 3]   [1, 6, 26, 26]     60.0   36.504k\n",
      "1_1                -   [1, 6, 26, 26]        -         -\n",
      "2_2                -   [1, 6, 13, 13]        -         -\n",
      "3_3    [6, 16, 3, 3]  [1, 16, 11, 11]    880.0  104.544k\n",
      "4_4                -  [1, 16, 11, 11]        -         -\n",
      "5_5                -    [1, 16, 5, 5]        -         -\n",
      "6_6                -         [1, 400]        -         -\n",
      "7_7       [400, 120]         [1, 120]   48.12k     48.0k\n",
      "8_8                -         [1, 120]        -         -\n",
      "9_9        [120, 84]          [1, 84]  10.164k    10.08k\n",
      "10_10              -          [1, 84]        -         -\n",
      "---------------------------------------------------------\n",
      "                        Totals\n",
      "Total params           59.224k\n",
      "Trainable params       59.224k\n",
      "Non-trainable params       0.0\n",
      "Mult-Adds             199.128k\n",
      "=========================================================\n"
     ]
    },
    {
     "data": {
      "text/html": [
       "<div>\n",
       "<style scoped>\n",
       "    .dataframe tbody tr th:only-of-type {\n",
       "        vertical-align: middle;\n",
       "    }\n",
       "\n",
       "    .dataframe tbody tr th {\n",
       "        vertical-align: top;\n",
       "    }\n",
       "\n",
       "    .dataframe thead th {\n",
       "        text-align: right;\n",
       "    }\n",
       "</style>\n",
       "<table border=\"1\" class=\"dataframe\">\n",
       "  <thead>\n",
       "    <tr style=\"text-align: right;\">\n",
       "      <th></th>\n",
       "      <th>Kernel Shape</th>\n",
       "      <th>Output Shape</th>\n",
       "      <th>Params</th>\n",
       "      <th>Mult-Adds</th>\n",
       "    </tr>\n",
       "    <tr>\n",
       "      <th>Layer</th>\n",
       "      <th></th>\n",
       "      <th></th>\n",
       "      <th></th>\n",
       "      <th></th>\n",
       "    </tr>\n",
       "  </thead>\n",
       "  <tbody>\n",
       "    <tr>\n",
       "      <th>0_0</th>\n",
       "      <td>[1, 6, 3, 3]</td>\n",
       "      <td>[1, 6, 26, 26]</td>\n",
       "      <td>60.0</td>\n",
       "      <td>36504.0</td>\n",
       "    </tr>\n",
       "    <tr>\n",
       "      <th>1_1</th>\n",
       "      <td>-</td>\n",
       "      <td>[1, 6, 26, 26]</td>\n",
       "      <td>NaN</td>\n",
       "      <td>NaN</td>\n",
       "    </tr>\n",
       "    <tr>\n",
       "      <th>2_2</th>\n",
       "      <td>-</td>\n",
       "      <td>[1, 6, 13, 13]</td>\n",
       "      <td>NaN</td>\n",
       "      <td>NaN</td>\n",
       "    </tr>\n",
       "    <tr>\n",
       "      <th>3_3</th>\n",
       "      <td>[6, 16, 3, 3]</td>\n",
       "      <td>[1, 16, 11, 11]</td>\n",
       "      <td>880.0</td>\n",
       "      <td>104544.0</td>\n",
       "    </tr>\n",
       "    <tr>\n",
       "      <th>4_4</th>\n",
       "      <td>-</td>\n",
       "      <td>[1, 16, 11, 11]</td>\n",
       "      <td>NaN</td>\n",
       "      <td>NaN</td>\n",
       "    </tr>\n",
       "    <tr>\n",
       "      <th>5_5</th>\n",
       "      <td>-</td>\n",
       "      <td>[1, 16, 5, 5]</td>\n",
       "      <td>NaN</td>\n",
       "      <td>NaN</td>\n",
       "    </tr>\n",
       "    <tr>\n",
       "      <th>6_6</th>\n",
       "      <td>-</td>\n",
       "      <td>[1, 400]</td>\n",
       "      <td>NaN</td>\n",
       "      <td>NaN</td>\n",
       "    </tr>\n",
       "    <tr>\n",
       "      <th>7_7</th>\n",
       "      <td>[400, 120]</td>\n",
       "      <td>[1, 120]</td>\n",
       "      <td>48120.0</td>\n",
       "      <td>48000.0</td>\n",
       "    </tr>\n",
       "    <tr>\n",
       "      <th>8_8</th>\n",
       "      <td>-</td>\n",
       "      <td>[1, 120]</td>\n",
       "      <td>NaN</td>\n",
       "      <td>NaN</td>\n",
       "    </tr>\n",
       "    <tr>\n",
       "      <th>9_9</th>\n",
       "      <td>[120, 84]</td>\n",
       "      <td>[1, 84]</td>\n",
       "      <td>10164.0</td>\n",
       "      <td>10080.0</td>\n",
       "    </tr>\n",
       "    <tr>\n",
       "      <th>10_10</th>\n",
       "      <td>-</td>\n",
       "      <td>[1, 84]</td>\n",
       "      <td>NaN</td>\n",
       "      <td>NaN</td>\n",
       "    </tr>\n",
       "  </tbody>\n",
       "</table>\n",
       "</div>"
      ],
      "text/plain": [
       "        Kernel Shape     Output Shape   Params  Mult-Adds\n",
       "Layer                                                    \n",
       "0_0     [1, 6, 3, 3]   [1, 6, 26, 26]     60.0    36504.0\n",
       "1_1                -   [1, 6, 26, 26]      NaN        NaN\n",
       "2_2                -   [1, 6, 13, 13]      NaN        NaN\n",
       "3_3    [6, 16, 3, 3]  [1, 16, 11, 11]    880.0   104544.0\n",
       "4_4                -  [1, 16, 11, 11]      NaN        NaN\n",
       "5_5                -    [1, 16, 5, 5]      NaN        NaN\n",
       "6_6                -         [1, 400]      NaN        NaN\n",
       "7_7       [400, 120]         [1, 120]  48120.0    48000.0\n",
       "8_8                -         [1, 120]      NaN        NaN\n",
       "9_9        [120, 84]          [1, 84]  10164.0    10080.0\n",
       "10_10              -          [1, 84]      NaN        NaN"
      ]
     },
     "execution_count": 47,
     "metadata": {},
     "output_type": "execute_result"
    }
   ],
   "source": [
    "# load the pre-trained CNN\n",
    "convnet = nn.Sequential(nn.Conv2d(1, 6, 3),\n",
    "                        nn.ReLU(),\n",
    "                        nn.MaxPool2d(2),\n",
    "                        nn.Conv2d(6, 16, 3),\n",
    "                        nn.ReLU(),\n",
    "                        nn.MaxPool2d(2),\n",
    "                        nn.Flatten(),\n",
    "                        nn.Linear(in_features=16 * 5 * 5, out_features=120),\n",
    "                        nn.ReLU(),\n",
    "                        nn.Linear(in_features=120, out_features=84),\n",
    "                        nn.ReLU(),\n",
    "                        nn.Linear(in_features=84, out_features=10))\n",
    "convnet.load_state_dict(torch.load('pretrained_convnet.pt',map_location=torch.device('cpu')))\n",
    "convnet.eval()\n",
    "print('[Summary of pre-trained convnet]')\n",
    "summary(convnet, torch.zeros((1, 1, 28, 28)))\n",
    "print()\n",
    "\n",
    "# select the pretrained CNN upto the bottleneck layer\n",
    "intermediate_layer_model = convnet[:-1]\n",
    "print('[Summary of the pre-trained convnet up to the bottleneck layer]')\n",
    "summary(intermediate_layer_model, torch.zeros((1, 1, 28, 28)))"
   ]
  },
  {
   "cell_type": "markdown",
   "metadata": {
    "id": "_6NuhN2a7nP1"
   },
   "source": [
    "We first extract bottleneck feature vectors of the subsampled 1000 training data from the intermediate model."
   ]
  },
  {
   "cell_type": "code",
   "execution_count": 48,
   "metadata": {
    "id": "I_sianPv7nP2"
   },
   "outputs": [],
   "source": [
    "# do not modify this cell\n",
    "x_train_small_bottleneck_representation = UDA_pytorch_model_transform(intermediate_layer_model, x_train_small)"
   ]
  },
  {
   "cell_type": "markdown",
   "metadata": {
    "id": "Q-owquXC7nP2"
   },
   "source": [
    "Next, visualize two different types of features with t-SNE.\n",
    "\n",
    "1. Make a t-SNE plot using the **784 (=28$\\times$28) dimensional raw features** from the subsampled training data (i.e., using `x_train_small`). Set `n_components=2, verbose=1, perplexity=25, random_state=0` for `TSNE` from scikit-learn. Plot the two classes in different colors.\n",
    "\n",
    "2. Repeat the previous step (using the exact same arguments for `TSNE`) except now using the **84 dimensional bottleneck features** (i.e., using `x_train_small_bottleneck_representation`.\n",
    "\n",
    "You may need to convert between PyTorch tensors and NumPy arrays."
   ]
  },
  {
   "cell_type": "code",
   "execution_count": 49,
   "metadata": {
    "colab": {
     "base_uri": "https://localhost:8080/",
     "height": 826
    },
    "id": "rnxRy5q87nP2",
    "outputId": "4adf9848-62af-42b6-e4b1-cf2d735a35bc"
   },
   "outputs": [
    {
     "name": "stderr",
     "output_type": "stream",
     "text": [
      "/usr/local/lib/python3.7/dist-packages/sklearn/manifold/_t_sne.py:783: FutureWarning: The default initialization in TSNE will change from 'random' to 'pca' in 1.2.\n",
      "  FutureWarning,\n"
     ]
    },
    {
     "name": "stdout",
     "output_type": "stream",
     "text": [
      "[t-SNE] Computing 76 nearest neighbors...\n",
      "[t-SNE] Indexed 1000 samples in 0.001s...\n",
      "[t-SNE] Computed neighbors for 1000 samples in 0.093s...\n",
      "[t-SNE] Computed conditional probabilities for sample 1000 / 1000\n",
      "[t-SNE] Mean sigma: 1.929497\n",
      "[t-SNE] KL divergence after 250 iterations with early exaggeration: 66.891090\n",
      "[t-SNE] KL divergence after 1000 iterations: 1.064222\n"
     ]
    },
    {
     "data": {
      "image/png": "[encoded data removed]",
      "text/plain": [
       "<Figure size 432x288 with 1 Axes>"
      ]
     },
     "metadata": {
      "needs_background": "light"
     },
     "output_type": "display_data"
    },
    {
     "name": "stdout",
     "output_type": "stream",
     "text": [
      "[t-SNE] Computing 76 nearest neighbors...\n",
      "[t-SNE] Indexed 1000 samples in 0.000s...\n"
     ]
    },
    {
     "name": "stderr",
     "output_type": "stream",
     "text": [
      "/usr/local/lib/python3.7/dist-packages/sklearn/manifold/_t_sne.py:783: FutureWarning: The default initialization in TSNE will change from 'random' to 'pca' in 1.2.\n",
      "  FutureWarning,\n"
     ]
    },
    {
     "name": "stdout",
     "output_type": "stream",
     "text": [
      "[t-SNE] Computed neighbors for 1000 samples in 0.050s...\n",
      "[t-SNE] Computed conditional probabilities for sample 1000 / 1000\n",
      "[t-SNE] Mean sigma: 2.053075\n",
      "[t-SNE] KL divergence after 250 iterations with early exaggeration: 66.680389\n",
      "[t-SNE] KL divergence after 1000 iterations: 0.992695\n"
     ]
    },
    {
     "data": {
      "image/png": "[encoded data removed]",
      "text/plain": [
       "<Figure size 432x288 with 1 Axes>"
      ]
     },
     "metadata": {
      "needs_background": "light"
     },
     "output_type": "display_data"
    }
   ],
   "source": [
    "# write your code here\n",
    "from sklearn.manifold import TSNE\n",
    "\n",
    "#1\n",
    "x_train_small_reshaped = x_train_small.reshape(len(x_train_small),-1)\n",
    "x_train_small_tsned = TSNE(n_components=2, verbose=1, perplexity=25, random_state=0, learning_rate='auto').fit_transform(x_train_small_reshaped)\n",
    "plt.scatter(x_train_small_tsned[:, 0], x_train_small_tsned[:, 1],c=y_train_small, cmap='Set3')\n",
    "plt.axis('equal')\n",
    "plt.show()\n",
    "\n",
    "#2\n",
    "x_train_small_bottleneck_representation_tsned = TSNE(n_components=2, verbose=1, perplexity=25, random_state=0, learning_rate='auto').fit_transform(x_train_small_bottleneck_representation)\n",
    "plt.scatter(x_train_small_bottleneck_representation_tsned[:, 0], x_train_small_bottleneck_representation_tsned[:, 1],c=y_train_small, cmap='Set3')\n",
    "plt.axis('equal')\n",
    "plt.show()"
   ]
  },
  {
   "cell_type": "markdown",
   "metadata": {
    "id": "7XOBB3Sm7nP2"
   },
   "source": [
    "**(c) [16 points]** We now evaluate on test data and compare several different classifiers. Train **5-NN** and **random forest** classifiers with **784 (=28$\\times$28) raw features** and, separately, the **84 bottleneck features** from **all training data**, respectively. That means you should train 4 models in total:\n",
    "\n",
    "1. 5-NN classifier trained on all raw training features\n",
    "2. 5-NN classifier trained on all training bottleneck features\n",
    "3. Random forest trained on all raw training features (for reproducibility of code, please use arguments `n_estimators=100, random_state=0` for `RandomForestClassifier`)\n",
    "4. Random forest trained on all training bottleneck features (again, use `n_estimators=100, random_state=0`)\n",
    "\n",
    "Test each model with corresponding **test dataset** and print the test accuracy. Also, compute and print the test accuracy of the **pre-trained convnet** (`convnet`) by using **test data**. You may think of this task as filling in the blanks of the following table with test accuracy results.\n",
    "\n",
    "| Model type       | Raw features        | Bottleneck features  |\n",
    "|:---------------- |:-------------------:|:--------------------:|\n",
    "| Pretrained CNN   |                     | this cell stays empty|\n",
    "| 5-NN             |                     |                      |\n",
    "| Random forest    |                     |                      |\n",
    "\n",
    "Important: the pre-trained convnet is for all 10 classes; only look at the probabilities corresponding to pullovers (class 2) and shirts (class 6), and take an argmax only over these two class probabilities to come up with predictions stricted to pullovers or shirts."
   ]
  },
  {
   "cell_type": "code",
   "execution_count": 59,
   "metadata": {
    "colab": {
     "base_uri": "https://localhost:8080/"
    },
    "id": "0CisY_nV7nP2",
    "outputId": "6409ad76-83b9-4268-8cfa-015f575d1a98"
   },
   "outputs": [
    {
     "name": "stdout",
     "output_type": "stream",
     "text": [
      "Model Type \t Raw Features \t Bottleneck Features\n",
      "Pretrained CNN:\t 0.75\n",
      "5-NN \t \t 0.819 \t \t 0.877\n",
      "Random Forest \t 0.8525 \t 0.8955\n"
     ]
    }
   ],
   "source": [
    "# write your code here\n",
    "from sklearn.metrics import accuracy_score\n",
    "\n",
    "x_test_reshape = x_test.reshape(len(x_test),-1)\n",
    "x_test_small_bottleneck_representation = UDA_pytorch_model_transform(intermediate_layer_model, x_test)\n",
    "\n",
    "print(\"Model Type \\t Raw Features \\t Bottleneck Features\")\n",
    "\n",
    "predicted_test_labels = UDA_pytorch_classifier_predict(convnet, x_test)\n",
    "convnet_acc = UDA_compute_accuracy(predicted_test_labels,y_test)*100\n",
    "print('Pretrained CNN:\\t',convnet_acc)\n",
    "\n",
    "#5-NN classifier trained on all raw training features\n",
    "test_knn_classifier = KNeighborsClassifier(n_neighbors=5)\n",
    "test_knn_classifier.fit(x_train_small_reshaped, y_train_small)\n",
    "predicted_knn_test_labels = test_knn_classifier.predict(x_test_reshape)\n",
    "knn_acc = accuracy_score(y_test, predicted_knn_test_labels)\n",
    "\n",
    "#5-NN classifier trained on all training bottleneck features\n",
    "test_knn_bn_classifier = KNeighborsClassifier(n_neighbors=5)\n",
    "test_knn_bn_classifier.fit(x_train_small_bottleneck_representation, y_train_small)\n",
    "predicted_knn_bn_test_labels = test_knn_bn_classifier.predict(x_test_small_bottleneck_representation)\n",
    "knn_bn_acc = accuracy_score(y_test, predicted_knn_bn_test_labels)\n",
    "\n",
    "print(\"5-NN \\t \\t\",knn_acc,\"\\t \\t\",knn_bn_acc)\n",
    "\n",
    "#Random forest trained on all raw training features \n",
    "test_rf_classifier = RandomForestClassifier(n_estimators=100, random_state=0)\n",
    "test_rf_classifier.fit(x_train_small_reshaped, y_train_small)\n",
    "predicted_rf_test_labels = test_rf_classifier.predict(x_test_reshape)\n",
    "rf_acc = accuracy_score(y_test, predicted_rf_test_labels)\n",
    "\n",
    "#Random forest trained on all training bottleneck features\n",
    "test_rf_classifier = RandomForestClassifier(n_estimators=100, random_state=0)\n",
    "test_rf_classifier.fit(x_train_small_bottleneck_representation, y_train_small)\n",
    "predicted_rf_bn_test_labels = test_rf_classifier.predict(x_test_small_bottleneck_representation)\n",
    "rf_bn_acc = accuracy_score(y_test, predicted_rf_bn_test_labels)\n",
    "\n",
    "print(\"Random Forest \\t\",rf_acc,\"\\t\",rf_bn_acc)"
   ]
  },
  {
   "cell_type": "markdown",
   "metadata": {
    "id": "gvxtuyFt7nP2"
   },
   "source": [
    "Among the five models above, which model performed the best? Which model showed the lowest accuracy? For the 5-NN and random forest classifiers, is the prediction accuracy higher using bottleneck features instead of the raw features?\n",
    "\n",
    "Random Forest with using bottleneck features showed the highest accuracy while pretrained cnn showed the lowest. Overall, the classifiers using bottleneck features had better accuracy than when they used raw features."
   ]
  },
  {
   "cell_type": "markdown",
   "metadata": {
    "id": "Io_VIcks7nP2"
   },
   "source": [
    "**Write your answers here:**"
   ]
  },
  {
   "cell_type": "markdown",
   "metadata": {
    "id": "NC-zJ0q87nP2"
   },
   "source": [
    "**(d) [10 points]** We now look at plotting an ROC curve, varying $k$ in $k$-NN. Train k-NN classifiers with $k=1,2,...,50$ with **bottleneck** feature vectors of all **training** data. As a result, you will get 50 classifiers. Draw a scatter plot that has false positive rate (FPR) on x-axis and true positive rate (TPR) on y-axis. Each scatter point represents one k-NN classifier. Use the **test** data to compute FPR and TPR.\n",
    "\n",
    "Recall that true and false positive rate calculations require you to specify one of the two outcomes as the \"positive\" class and the other as the \"negative\" class. For this problem, use class 6 (shirts) as the \"positive\" class, and class 2 (pullovers) as the \"negative\" class."
   ]
  },
  {
   "cell_type": "code",
   "execution_count": 103,
   "metadata": {
    "colab": {
     "base_uri": "https://localhost:8080/",
     "height": 295
    },
    "id": "0FqmUGUU7nP2",
    "outputId": "170deae4-0e0a-4420-fbe1-d89553512b95"
   },
   "outputs": [
    {
     "data": {
      "image/png": "[encoded data removed]",
      "text/plain": [
       "<Figure size 432x288 with 1 Axes>"
      ]
     },
     "metadata": {
      "needs_background": "light"
     },
     "output_type": "display_data"
    }
   ],
   "source": [
    "# write your code here\n",
    "from sklearn.metrics import roc_curve\n",
    "from sklearn.metrics import roc_auc_score\n",
    "import pandas as pd\n",
    "\n",
    "fpr_list = []\n",
    "max_true_pos = 0\n",
    "best_k=1\n",
    "for k in np.arange(1,51):\n",
    "    test_knn_bn_classifier = KNeighborsClassifier(n_neighbors=k)\n",
    "    test_knn_bn_classifier.fit(x_train_small_bottleneck_representation, y_train_small)\n",
    "    predicted_knn_test_labels = test_knn_bn_classifier.predict(x_test_small_bottleneck_representation)\n",
    "\n",
    "    fpr, tpr, _ = roc_curve(y_test,  predicted_knn_test_labels)\n",
    "    #auc = roc_auc_score(y_test, knn_scores)\n",
    "  \n",
    "    plt.scatter(fpr[1],tpr[1],label=k)\n",
    "\n",
    "    if max_true_pos<tpr[1]:\n",
    "      if fpr[1]<12.5:\n",
    "        max_true_pos = tpr[1]\n",
    "        best_k=k\n",
    "        fal_pos = fpr[1]\n",
    "    \n",
    "plt.title(\"ROC Curve\")\n",
    "plt.ylabel('True Positive Rate')\n",
    "plt.xlabel('False Positive Rate')\n",
    "#plt.legend(loc=1)\n",
    "plt.show()"
   ]
  },
  {
   "cell_type": "markdown",
   "metadata": {
    "id": "O3T26YkH7nP3"
   },
   "source": [
    "Suppose you work for a company that wants to figure out when a shirt appears among photos that have either shirts or pullovers. The company tells you that it cannot tolerate a false positive rate of detecting shirts that is more than 12.5%. What value of number of nearest neighbors $k$ achieves the highest true positive rate, but doesn't have more than a 12.5% false positive rate?"
   ]
  },
  {
   "cell_type": "markdown",
   "metadata": {
    "id": "s-i09-lX7nP3"
   },
   "source": [
    "**Write your answer here:**  7 Nearest Neighbors achieves the highest true positive rate of 88.1% with False Positive rate of 11.5%"
   ]
  },
  {
   "cell_type": "code",
   "execution_count": 101,
   "metadata": {
    "colab": {
     "base_uri": "https://localhost:8080/"
    },
    "id": "7ikPpT-_7nP3",
    "outputId": "ffbe9254-fa30-46e2-83e4-f21d6de066cb"
   },
   "outputs": [
    {
     "name": "stdout",
     "output_type": "stream",
     "text": [
      "K:\tTrue Pos Value  False pos Value\n",
      "7 :\t 0.881  \t  0.114\n"
     ]
    }
   ],
   "source": [
    "# write your code here (if it helps you justify your answer above)\n",
    "#calculation in above cell\n",
    "print(\"K:\\tTrue Pos Value  False pos Value\")\n",
    "print(best_k,\":\\t\" ,max_true_pos,\" \\t \",fal_pos)"
   ]
  },
  {
   "cell_type": "markdown",
   "metadata": {
    "id": "HIBvQedd7nP3"
   },
   "source": [
    "# Part 3: Sentiment Analysis [35 points]\n",
    "\n",
    "Download data from: http://www.andrew.cmu.edu/user/georgech/HW3-data.zip <br>\n",
    "\n",
    "The folder contains:\n",
    "\n",
    "- `train.csv`\n",
    "- `test.csv`\n",
    "\n",
    "In this problem, we look at predicting whether a tweet has positive or negative sentiment.\n",
    "\n",
    "**We intentionally wrote this problem to be a bit open-ended to let you play with different neural net code yourself and also for you to compare against a classical baseline.** We will give full credit even if you subsample the training data. For example, you only work with 5000 randomly chosen training tweets instead of all of them (over 1 million tweets). Also, for the random forest part (the last part), you can keep track of only the most frequently occurring 1000 words (again, this is enough for full credit) and you can also set the RandomForestClassifier argument \"n_jobs\" to -1 to use all your CPU threads. However, do not subsample the test dataset (which is small anyways).\n",
    "\n",
    "If you want to have practice with what it's like working with a sizable dataset though, we do encourage you to try to use as much of the training data as possible (our solution code uses the full training data in an 80-20 split between a proper training set and a validation set, just like in lectures). Note that using all the data does involve more careful data preprocessing to avoid possible memory issues. Some suggestions:\n",
    "\n",
    "- Using your knowledge from weeks 1 and 2, you can write your own code to tokenize tweets and only include some of the tokens (e.g., only keeping the most common 1000 tokens, etc); in particular you can build your own vocabulary. As a suggestion, make vocabulary token \\#0 correspond to a special padding character `\"<pad>\"`; this special index 0 will in fact be automatically added by the batching process for recurrent neural nets when making different tweets within the same batch have the same length. As another suggestion, make a special vocabulary token `\"<unk>\"` for unknown tokens that you've decided not to keep track of. For example, if you only keep track of the most common 1000 tokens, then any token that is not one of these most common 1000 gets represented as `\"<unk>\"`.\n",
    "\n",
    "- For the last part, training a random forest for sentiment analysis could be very computationally expensive. If you are already subsampling the training data beforehand, then great, just work with a smaller dataset (note: you should use the same training data for both the LSTM and for the random forest so that the comparison between them is fair). If you want to still try to use the full training dataset or as much of it as possible, then we suggest that you represent the feature vectors as a sparse matrix. You might also want to set the \"max_samples\" argument to be something like 0.1 so that each tree uses a 10% subsample of the proper training set (with the default choice of 100 trees, across all your trees, you will likely use the vast majority of the full training set---it's just that each tree won't look at more than 10% of the proper training set). Also, simple data splitting suffices; cross-validation here would be very expensive. Moreover, it's fine to not train a random forest from scratch using the best hyperparameters found; instead just use whichever model was trained using the proper training data with the best hyperparameters found."
   ]
  },
  {
   "cell_type": "markdown",
   "metadata": {
    "id": "rFZ2WNiG7nP3"
   },
   "source": [
    "**(a) [5 points]** We first read in the tweet data. Read the data present in `train.csv` file. **Please do not change the filename. In particular, use a relative path, i.e., `./HW3-data/train.csv`**. Then do the following:\n",
    "\n",
    "1. Keep only the sentiment and sentiment text in the data - the first and the last coumn\n",
    "2. Print the number of positive and negative sentiment labels\n",
    "\n",
    "Note: If you are using `open()`, you may have to set `encoding='iso8859'`."
   ]
  },
  {
   "cell_type": "code",
   "execution_count": 5,
   "metadata": {
    "colab": {
     "base_uri": "https://localhost:8080/"
    },
    "id": "L_oSeTr-7nP3",
    "outputId": "7a98a89c-30c9-451a-a979-daf927e733d3"
   },
   "outputs": [
    {
     "name": "stdout",
     "output_type": "stream",
     "text": [
      "Positive sentiment label: 2502\n",
      "Negative sentiment label: 2498\n"
     ]
    }
   ],
   "source": [
    "# your code here\n",
    "path = \"/content/drive/MyDrive/Colab Notebooks/HW3-data/train.csv\"\n",
    "import numpy as np\n",
    "\n",
    "train_data_list = []\n",
    "\n",
    "with open(path, \"r\", encoding='iso8859', errors='ignore') as f:\n",
    "    for line in f:\n",
    "      sv = line.split(\",\")\n",
    "      train_data_list.append(sv)\n",
    "\n",
    "sentiment_label=[]\n",
    "sentiment_text =[] \n",
    "\n",
    "random_sample_x = np.random.permutation(len(train_data_list))[:5000]\n",
    "\n",
    "for i,r in enumerate(train_data_list):\n",
    "  if i in random_sample_x:\n",
    "    sentiment_label.append(r[0])\n",
    "    sentiment_text.append(r[5])\n",
    "\n",
    "positive_sent_label = [x for x in sentiment_label if x=='1']\n",
    "print(\"Positive sentiment label:\",len(positive_sent_label))\n",
    "\n",
    "negative_sent_label = [x for x in sentiment_label if x=='0']\n",
    "print(\"Negative sentiment label:\",len(negative_sent_label))"
   ]
  },
  {
   "cell_type": "markdown",
   "metadata": {
    "id": "2_w26is-7nP3"
   },
   "source": [
    "**(b) [20 points]** Modify the LSTM demo code from lecture to work with this Twitter dataset. Play with the learning rate and batch size so that the training gives reasonable increases in training and validation accuracies as we progress through epochs (leave the number of epochs at 10). Also feel free to try different neural net architectures (although you do not have to). What test accuracy are you able to achieve?"
   ]
  },
  {
   "cell_type": "code",
   "execution_count": 6,
   "metadata": {
    "id": "yW9SygEy_RG3"
   },
   "outputs": [],
   "source": [
    "from torchnlp.word_to_vector import GloVe\n",
    "pretrained_embedding = GloVe(name='6B', dim=100)\n",
    "\n",
    "from torchnlp.encoders.text import SpacyEncoder\n",
    "\n",
    "train_dataset= list(zip(sentiment_text, sentiment_label))\n",
    "proper_train_size = int(len(train_dataset) * 0.8)\n",
    "val_size = len(train_dataset) - proper_train_size\n",
    "\n",
    "proper_train_dataset, val_dataset = torch.utils.data.random_split(train_dataset,\n",
    "                                                                  [proper_train_size,\n",
    "                                                                   val_size])\n",
    "\n",
    "encoder = SpacyEncoder([data[0] for data in proper_train_dataset])\n",
    "\n",
    "proper_train_encoded = [encoder.encode(data[0]) for data in proper_train_dataset]\n",
    "proper_train_labels = torch.tensor([int(data[1] == '1') for data in proper_train_dataset])\n",
    "\n",
    "val_encoded = [encoder.encode(data[0]) for data in val_dataset]\n",
    "val_labels = torch.tensor([int(data[1] == '1') for data in val_dataset])\n",
    "\n",
    "proper_train_dataset_encoded = list(zip(proper_train_encoded, proper_train_labels))\n",
    "val_dataset_encoded = list(zip(val_encoded, val_labels))\n",
    "\n",
    "embedding_weights = torch.empty(encoder.vocab_size, pretrained_embedding.dim)\n",
    "for i, token in enumerate(encoder.vocab):\n",
    "    embedding_weights[i] = pretrained_embedding[token]"
   ]
  },
  {
   "cell_type": "code",
   "execution_count": null,
   "metadata": {
    "colab": {
     "base_uri": "https://localhost:8080/",
     "height": 400
    },
    "id": "JvA0SCaD_KzF",
    "outputId": "1022e550-a9fe-4703-bdee-dec3d2b1b2dd"
   },
   "outputs": [
    {
     "name": "stdout",
     "output_type": "stream",
     "text": [
      "=============================================================\n",
      "                Kernel Shape Output Shape   Params Mult-Adds\n",
      "Layer                                                       \n",
      "0_0             [100, 10536]  [1, 5, 100]        -         -\n",
      "1_1.LSTM_model             -   [1, 5, 64]  42.496k   41.984k\n",
      "2_2                  [64, 2]       [1, 2]    130.0     128.0\n",
      "-------------------------------------------------------------\n",
      "                         Totals\n",
      "Total params          1.096226M\n",
      "Trainable params        42.626k\n",
      "Non-trainable params    1.0536M\n",
      "Mult-Adds               42.112k\n",
      "=============================================================\n"
     ]
    },
    {
     "data": {
      "text/html": [
       "<div>\n",
       "<style scoped>\n",
       "    .dataframe tbody tr th:only-of-type {\n",
       "        vertical-align: middle;\n",
       "    }\n",
       "\n",
       "    .dataframe tbody tr th {\n",
       "        vertical-align: top;\n",
       "    }\n",
       "\n",
       "    .dataframe thead th {\n",
       "        text-align: right;\n",
       "    }\n",
       "</style>\n",
       "<table border=\"1\" class=\"dataframe\">\n",
       "  <thead>\n",
       "    <tr style=\"text-align: right;\">\n",
       "      <th></th>\n",
       "      <th>Kernel Shape</th>\n",
       "      <th>Output Shape</th>\n",
       "      <th>Params</th>\n",
       "      <th>Mult-Adds</th>\n",
       "    </tr>\n",
       "    <tr>\n",
       "      <th>Layer</th>\n",
       "      <th></th>\n",
       "      <th></th>\n",
       "      <th></th>\n",
       "      <th></th>\n",
       "    </tr>\n",
       "  </thead>\n",
       "  <tbody>\n",
       "    <tr>\n",
       "      <th>0_0</th>\n",
       "      <td>[100, 10536]</td>\n",
       "      <td>[1, 5, 100]</td>\n",
       "      <td>NaN</td>\n",
       "      <td>NaN</td>\n",
       "    </tr>\n",
       "    <tr>\n",
       "      <th>1_1.LSTM_model</th>\n",
       "      <td>-</td>\n",
       "      <td>[1, 5, 64]</td>\n",
       "      <td>42496.0</td>\n",
       "      <td>41984.0</td>\n",
       "    </tr>\n",
       "    <tr>\n",
       "      <th>2_2</th>\n",
       "      <td>[64, 2]</td>\n",
       "      <td>[1, 2]</td>\n",
       "      <td>130.0</td>\n",
       "      <td>128.0</td>\n",
       "    </tr>\n",
       "  </tbody>\n",
       "</table>\n",
       "</div>"
      ],
      "text/plain": [
       "                Kernel Shape Output Shape   Params  Mult-Adds\n",
       "Layer                                                        \n",
       "0_0             [100, 10536]  [1, 5, 100]      NaN        NaN\n",
       "1_1.LSTM_model             -   [1, 5, 64]  42496.0    41984.0\n",
       "2_2                  [64, 2]       [1, 2]    130.0      128.0"
      ]
     },
     "execution_count": 34,
     "metadata": {},
     "output_type": "execute_result"
    }
   ],
   "source": [
    "from UDA_pytorch_utils import UDA_LSTMforSequential, UDA_pytorch_classifier_fit, \\\n",
    "    UDA_plot_train_val_accuracy_vs_epoch, UDA_pytorch_classifier_predict, \\\n",
    "    UDA_compute_accuracy\n",
    "\n",
    "simple_lstm_model = nn.Sequential(nn.Embedding.from_pretrained(embedding_weights),\n",
    "                                  UDA_LSTMforSequential(100, 64),\n",
    "                                  nn.Linear(64, 2))\n",
    "\n",
    "summary(simple_lstm_model, torch.zeros((1, 5), dtype=torch.long))"
   ]
  },
  {
   "cell_type": "code",
   "execution_count": null,
   "metadata": {
    "colab": {
     "base_uri": "https://localhost:8080/",
     "height": 799
    },
    "id": "QvrIgd0UCObw",
    "outputId": "485d3f99-b2e0-4c34-c570-1deeb6082ad2"
   },
   "outputs": [
    {
     "name": "stdout",
     "output_type": "stream",
     "text": [
      "Epoch 1 [==================================================] 4000/4000\n",
      "  Train accuracy: 0.5485\n",
      "  Validation accuracy: 0.5540\n",
      "Epoch 2 [==================================================] 4000/4000\n",
      "  Train accuracy: 0.5212\n",
      "  Validation accuracy: 0.5350\n",
      "Epoch 3 [==================================================] 4000/4000\n",
      "  Train accuracy: 0.5130\n",
      "  Validation accuracy: 0.5310\n",
      "Epoch 4 [==================================================] 4000/4000\n",
      "  Train accuracy: 0.5168\n",
      "  Validation accuracy: 0.5000\n",
      "Epoch 5 [==================================================] 4000/4000\n",
      "  Train accuracy: 0.5315\n",
      "  Validation accuracy: 0.5130\n",
      "Epoch 6 [==================================================] 4000/4000\n",
      "  Train accuracy: 0.6817\n",
      "  Validation accuracy: 0.6300\n",
      "Epoch 7 [==================================================] 4000/4000\n",
      "  Train accuracy: 0.5292\n",
      "  Validation accuracy: 0.5430\n",
      "Epoch 8 [==================================================] 4000/4000\n",
      "  Train accuracy: 0.5210\n",
      "  Validation accuracy: 0.5340\n",
      "Epoch 9 [==================================================] 4000/4000\n",
      "  Train accuracy: 0.5180\n",
      "  Validation accuracy: 0.5280\n",
      "Epoch 10 [==================================================] 4000/4000\n",
      "  Train accuracy: 0.5142\n",
      "  Validation accuracy: 0.5290\n"
     ]
    },
    {
     "data": {
      "image/png": "[encoded data removed]",
      "text/plain": [
       "<Figure size 432x288 with 1 Axes>"
      ]
     },
     "metadata": {
      "needs_background": "light"
     },
     "output_type": "display_data"
    }
   ],
   "source": [
    "num_epochs = 10\n",
    "batch_size = 64  \n",
    "learning_rate = 0.005\n",
    "\n",
    "train_accuracies, val_accuracies = \\\n",
    "    UDA_pytorch_classifier_fit(simple_lstm_model,\n",
    "                               torch.optim.Adam(simple_lstm_model.parameters(),\n",
    "                                                lr=learning_rate),\n",
    "                               nn.CrossEntropyLoss(),  # includes softmax\n",
    "                               proper_train_dataset_encoded, val_dataset_encoded,\n",
    "                               num_epochs, batch_size,\n",
    "                               sequence=True,\n",
    "                               save_epoch_checkpoint_prefix='imdb_lstm')\n",
    "\n",
    "UDA_plot_train_val_accuracy_vs_epoch(train_accuracies, val_accuracies)"
   ]
  },
  {
   "cell_type": "markdown",
   "metadata": {
    "id": "4kj-Qzt17nP3"
   },
   "source": [
    "**(c) [10 points]** How well does an LSTM compare with using a classical classifier? To investigate this question, let's try training a random forest for sentiment analysis. Your code from part **(b)** should involve coming up with encoded representations of text, i.e., representing a tweet using a sequence of word indices. Use this to come up with a term frequency representation for each tweet. Feel free to remove stop words and/or apply TF-IDF weighting, and then feed the resulting feature vector representations for tweets to a random forest classifier. You can use cross-validation to select hyperparameters. Try to make the random forest classifier perform as well as possible (it is good practice in real-world applications to try to make baselines as good as possible rather than intentionally using a baseline with lousy hyperparameter choices; in particular, it is *bad* practice to tune hyperparameters carefully only on a method you're proposing while not tuning hyperparameters on baselines!). What test set accuracy are you able to achieve with the random forest?"
   ]
  },
  {
   "cell_type": "code",
   "execution_count": 21,
   "metadata": {
    "id": "sKs-Gh4RTJJK"
   },
   "outputs": [],
   "source": [
    "from sklearn.feature_extraction.text import TfidfVectorizer\n",
    "\n",
    "tfid_vectorizer = TfidfVectorizer(stop_words='english',max_df=0.8, min_df=50)\n",
    "new_train_X = tfid_vectorizer.fit_transform(sentiment_text)\n",
    "new_train_X = new_train_X.toarray()"
   ]
  },
  {
   "cell_type": "code",
   "execution_count": 22,
   "metadata": {
    "colab": {
     "base_uri": "https://localhost:8080/"
    },
    "id": "1CaFV0_fat8L",
    "outputId": "611d529e-421e-4713-ceec-92c16934b140"
   },
   "outputs": [
    {
     "data": {
      "text/plain": [
       "(5000, 67)"
      ]
     },
     "execution_count": 22,
     "metadata": {},
     "output_type": "execute_result"
    }
   ],
   "source": [
    "new_sentiment_label = [int(data == '1') for data in sentiment_label]\n",
    "new_sentiment_label_arr = np.array(new_sentiment_label)\n",
    "new_train_X.shape"
   ]
  },
  {
   "cell_type": "code",
   "execution_count": 12,
   "metadata": {
    "colab": {
     "base_uri": "https://localhost:8080/"
    },
    "id": "kDd8wM7EZvGi",
    "outputId": "481a2309-eec9-4bf4-bc79-aa1c5b758c9a"
   },
   "outputs": [
    {
     "name": "stdout",
     "output_type": "stream",
     "text": [
      "Hyperparameter: (3, 1) cross validation error: 0.4024\n",
      "Hyperparameter: (3, 2) cross validation error: 0.3914000000000001\n",
      "Hyperparameter: (3, 4) cross validation error: 0.3934\n",
      "Hyperparameter: (3, 8) cross validation error: 0.39139999999999997\n",
      "Hyperparameter: (3, 16) cross validation error: 0.3892\n",
      "Hyperparameter: (9, 1) cross validation error: 0.4024\n",
      "Hyperparameter: (9, 2) cross validation error: 0.39980000000000004\n",
      "Hyperparameter: (9, 4) cross validation error: 0.4018\n",
      "Hyperparameter: (9, 8) cross validation error: 0.4022\n",
      "Hyperparameter: (9, 16) cross validation error: 0.3884\n",
      "Hyperparameter: (33, 1) cross validation error: 0.40599999999999997\n",
      "Hyperparameter: (33, 2) cross validation error: 0.40360000000000007\n",
      "Hyperparameter: (33, 4) cross validation error: 0.3994000000000001\n",
      "Hyperparameter: (33, 8) cross validation error: 0.40099999999999997\n",
      "Hyperparameter: (33, 16) cross validation error: 0.3884\n",
      "Best hyperparameter: (9, 16) cross validation error: 0.3884\n"
     ]
    }
   ],
   "source": [
    "lowest_cross_val_error = np.inf\n",
    "best_hyperparameter_setting = None\n",
    "\n",
    "num_features = new_train_X.shape[1]\n",
    "hyperparameter_settings = [(max_features, min_samples_leaf)\n",
    "                           for max_features in [int(np.ceil(np.sqrt(num_features) / 4)),\n",
    "                                                int(np.ceil(np.sqrt(num_features))),\n",
    "                                                int(np.ceil(np.sqrt(num_features) * 4))]\n",
    "                           for min_samples_leaf in [1, 2, 4, 8, 16]]\n",
    "\n",
    "kf = KFold(n_splits=5, shuffle=True, random_state=0)\n",
    "for hyperparameter_setting in hyperparameter_settings:\n",
    "    max_features, min_samples_leaf = hyperparameter_setting\n",
    "    errors = []\n",
    "    for proper_train_indices, val_indices in kf.split(new_train_X):\n",
    "        proper_train_features = new_train_X[proper_train_indices]\n",
    "        proper_train_labels = new_sentiment_label_arr[proper_train_indices]\n",
    "        val_features = new_train_X[val_indices]\n",
    "        val_labels = new_sentiment_label_arr[val_indices]\n",
    "        \n",
    "        classifier = RandomForestClassifier(max_features=max_features,\n",
    "                                            min_samples_leaf=min_samples_leaf,\n",
    "                                            random_state=0)\n",
    "        classifier.fit(proper_train_features, proper_train_labels)\n",
    "        predicted_val_labels = classifier.predict(val_features)\n",
    "        error = np.mean(predicted_val_labels != val_labels)\n",
    "        errors.append(error)\n",
    "        \n",
    "    cross_val_error = np.mean(errors)\n",
    "    if cross_val_error < lowest_cross_val_error:\n",
    "        lowest_cross_val_error = cross_val_error\n",
    "        best_hyperparameter_setting = hyperparameter_setting\n",
    "\n",
    "print('Best hyperparameter:', best_hyperparameter_setting, 'cross validation error:', lowest_cross_val_error)"
   ]
  },
  {
   "cell_type": "code",
   "execution_count": 32,
   "metadata": {
    "id": "OvfjGs_DhiEg"
   },
   "outputs": [],
   "source": [
    "#Load test data\n",
    "test_path= \"/content/drive/MyDrive/Colab Notebooks/HW3-data/test.csv\"\n",
    "test_data_list = []\n",
    "with open(test_path, \"r\", encoding='iso8859', errors='ignore') as f:\n",
    "    for line in f:\n",
    "      sv = line.split(\",\")\n",
    "      test_data_list.append(sv)\n",
    "\n",
    "test_sentiment_label=[]\n",
    "test_sentiment_text =[] \n",
    "\n",
    "for i,r in enumerate(test_data_list):\n",
    "    test_sentiment_label.append(r[0])\n",
    "    test_sentiment_text.append(r[5])\n",
    "\n",
    "#vectorize\n",
    "new_test_X = tfid_vectorizer.transform(test_sentiment_text)\n",
    "test_sentiment_label_arr = np.array(test_sentiment_label)"
   ]
  },
  {
   "cell_type": "code",
   "execution_count": 113,
   "metadata": {
    "colab": {
     "base_uri": "https://localhost:8080/"
    },
    "id": "WJk6veI2UNZB",
    "outputId": "d0d21a04-bc62-47c7-a2ea-0b6db0de5cbb"
   },
   "outputs": [
    {
     "name": "stdout",
     "output_type": "stream",
     "text": [
      "Test Accuracy for Random Forest:  0.0\n"
     ]
    },
    {
     "name": "stderr",
     "output_type": "stream",
     "text": [
      "/usr/local/lib/python3.7/dist-packages/sklearn/metrics/_classification.py:211: FutureWarning: elementwise comparison failed; returning scalar instead, but in the future will perform elementwise comparison\n",
      "  score = y_true == y_pred\n"
     ]
    }
   ],
   "source": [
    "#rf on test\n",
    "best_max_features,best_min_samples_leaf = 9,16 #best_hyperparameter_setting\n",
    "new_rf_classifier = RandomForestClassifier(max_features=best_max_features,min_samples_leaf=best_min_samples_leaf,random_state=0)\n",
    "new_rf_classifier.fit(new_train_X, new_sentiment_label_arr)\n",
    "predicted_rf_test_labels = new_rf_classifier.predict(new_test_X)\n",
    "rf_acc = accuracy_score(test_sentiment_label, predicted_rf_test_labels)\n",
    "print(\"Test Accuracy for Random Forest: \",rf_acc)"
   ]
  }
 ],
 "metadata": {
  "colab": {
   "collapsed_sections": [],
   "name": "HW3.ipynb",
   "provenance": []
  },
  "kernelspec": {
   "display_name": "Python 3",
   "language": "python",
   "name": "python3"
  },
  "language_info": {
   "codemirror_mode": {
    "name": "ipython",
    "version": 3
   },
   "file_extension": ".py",
   "mimetype": "text/x-python",
   "name": "python",
   "nbconvert_exporter": "python",
   "pygments_lexer": "ipython3",
   "version": "3.8.8"
  }
 },
 "nbformat": 4,
 "nbformat_minor": 1
}
