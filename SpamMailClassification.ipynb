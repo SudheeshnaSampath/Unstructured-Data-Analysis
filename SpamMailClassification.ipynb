{
 "cells": [
  {
   "cell_type": "markdown",
   "metadata": {},
   "source": [
    "# Unstructured Data Analytics - NLP"
   ]
  },
  {
   "cell_type": "markdown",
   "metadata": {},
   "source": [
    "## Question 1: Clustering emails using Gaussian Mixture Models [50 pts]"
   ]
  },
  {
   "cell_type": "markdown",
   "metadata": {},
   "source": [
    "For this problem, we will be analyzing emails taken from the [Enron Email Dataset](https://www.cs.cmu.edu/~enron/). We have already curated the data for you in the `data/enron` directory, with one file per email (so there is no need to redownload the dataset as it is already included in this homework zip archive). The dataset includes a combination of \"spam\" and \"ham\" emails. Spam emails are unsolicited messages intended to sell a product or scam users into providing personal information, while ham emails represent everything that is not spam.\n",
    "\n",
    "The language used in spam emails tends to be considerably different from typical business emails. Most spam filters leverage this difference in word frequencies to detect spam as it arrives and filter it out of email inboxes. We will use Gaussian Mixture Models (GMMs) to cluster the emails and attempt to identify groups of emails which are likely to be spam."
   ]
  },
  {
   "cell_type": "markdown",
   "metadata": {},
   "source": [
    "### Part A: Construct a list of processed documents [10 points]"
   ]
  },
  {
   "cell_type": "markdown",
   "metadata": {},
   "source": [
    "Provided below is a function that returns a document present in a file given a filename. The function performs some preprocessing to (1) remove punctuation, (2),(3) remove whitespace and (4) lowercase all words. Using the `make_word_list` function, construct a list of processed documents."
   ]
  },
  {
   "cell_type": "code",
   "execution_count": 1,
   "metadata": {},
   "outputs": [],
   "source": [
    "import re\n",
    "import string\n",
    "import codecs\n",
    "\n",
    "def make_word_list(path):\n",
    "    \n",
    "    with codecs.open(path, \"r\", encoding='utf-8', errors='ignore') as f:\n",
    "        corpus_text = f.read()\n",
    "\n",
    "    for c in string.punctuation:\n",
    "        corpus_text = corpus_text.replace(c, \"\")  # -- (1)\n",
    "    \n",
    "    text = re.sub(r'\\S*\\d\\S*', '', corpus_text) # -- (2)\n",
    "    text = re.sub(r'[^\\w\\s]', '', text)         # -- (3)\n",
    "    \n",
    "    text = text.lower().split()           # -- (4)         \n",
    "    \n",
    "    li = []\n",
    "    for token in text:\n",
    "        li.append(token)\n",
    "\n",
    "    return \" \".join(li)"
   ]
  },
  {
   "cell_type": "code",
   "execution_count": 2,
   "metadata": {},
   "outputs": [],
   "source": [
    "########################################################################\n",
    "######################### Write your code here #########################\n",
    "########################################################################\n",
    "    \n",
    "import glob\n",
    "from sklearn.mixture import GaussianMixture\n",
    "\n",
    "list_processed =[]\n",
    "for filepath in glob.glob('./data/enron/*.txt'):\n",
    "    list_processed.append(make_word_list(filepath))"
   ]
  },
  {
   "cell_type": "markdown",
   "metadata": {},
   "source": [
    "### Part B: Construct a document matrix [10 points]"
   ]
  },
  {
   "cell_type": "markdown",
   "metadata": {},
   "source": [
    "Next, construct a document matrix `X` as a matrix of [TF-IDF](https://en.wikipedia.org/wiki/Tf%E2%80%93idf) features for each document. TF-IDF features encode information about the word frequency within a document, weighted by the frequency of the same word for corpus as a whole.\n",
    "\n",
    "   - Use the `TfidfVectorizer` from [scikit-learn](http://scikit-learn.org/stable/modules/generated/sklearn.feature_extraction.text.TfidfVectorizer.html) to create the document matrix `X`.\n",
    "   - Set `min_df=50`; this drops words that don't occur in at least 50 documents.\n",
    "   - Set `stop_words=\"english\"` and `max_df=0.8` to filter out stop-words.\n",
    "   - Print the number of unique words in the vocabulary Hint: Look for the `vocabulary_` attribute in the `TfidfVectorizer` object after fitting the vectorizer to the data set. The vocabulary will also be needed in part (d)."
   ]
  },
  {
   "cell_type": "code",
   "execution_count": 90,
   "metadata": {},
   "outputs": [
    {
     "name": "stdout",
     "output_type": "stream",
     "text": [
      "1680\n"
     ]
    }
   ],
   "source": [
    "########################################################################\n",
    "######################### Write your code here #########################\n",
    "########################################################################\n",
    "\n",
    "from sklearn.feature_extraction.text import TfidfVectorizer\n",
    "\n",
    "vectorizer = TfidfVectorizer(stop_words='english',max_df=0.8, min_df=50)\n",
    "X = vectorizer.fit_transform(list_processed)\n",
    "X = X.toarray()\n",
    "\n",
    "print(len(vectorizer.vocabulary_))"
   ]
  },
  {
   "cell_type": "markdown",
   "metadata": {},
   "source": [
    "### Part C: Perform Clustering [10 points]"
   ]
  },
  {
   "cell_type": "markdown",
   "metadata": {},
   "source": [
    "Perform clustering on the document matrix `X` using GMMs. \n",
    "- Use the `GaussianMixture` module from [scikit-learn](http://scikit-learn.org/stable/modules/generated/sklearn.mixture.GaussianMixture.html) to cluster the documents.\n",
    "- Set the number of clusters (mixture components) to 3.\n",
    "- Print the number of documents assigned to each cluster."
   ]
  },
  {
   "cell_type": "code",
   "execution_count": 4,
   "metadata": {},
   "outputs": [
    {
     "name": "stdout",
     "output_type": "stream",
     "text": [
      "Cluster  1 :  1544\n",
      "Cluster  2 :  583\n",
      "Cluster  3 :  3044\n"
     ]
    }
   ],
   "source": [
    "########################################################################\n",
    "######################### Write your code here #########################\n",
    "########################################################################\n",
    "\n",
    "from sklearn.mixture import GaussianMixture\n",
    "gm = GaussianMixture(n_components=3,n_init=100, random_state=0).fit(X)\n",
    "labels = gm.predict(X) \n",
    "\n",
    "for i in range(3):\n",
    "    print(\"Cluster \",i+1,\": \",len(labels[labels==i]))"
   ]
  },
  {
   "cell_type": "markdown",
   "metadata": {},
   "source": [
    "### Part D: Characterize the clusters [10 points]"
   ]
  },
  {
   "cell_type": "markdown",
   "metadata": {},
   "source": [
    "Now, we will attempt to characterize the clusters based on the frequency of spam-relevant words. \n",
    "- Select 3 \"spammy\" words from the vocabulary that you expect to occur frequently in spam emails and less frequently in normal business emails (e.g., 'click', 'www', 'offer'). Construct a list, `spam_indices`, storing the indices of the spammy words you selected in the vocabulary generated by `TfidfVectorizer`.\n",
    "- Select 3 \"hammy\" words from the vocabulary you think will occur frequently in business emails and infrequently in spam emails (e.g., 'meeting', 'attached', 'review'). Construct a list, `ham_indices`, storing the indices of the hammy words you selected in the vocabulary generated by `TfidfVectorizer`.\n",
    "- Use the function provided below, `plot_spam_words_by_cluster`, to plot the average TF-IDF features for your selected spammy words and hammy words for each cluster. The function takes the following parameters:\n",
    "    - `X` is a matrix of TF-IDF features (rows index documents, columns index terms).\n",
    "    - `predicted` is predicted cluster assignments returned by `GaussianMixture.predict()`\n",
    "    - `n_clusters` is the number of clusters. This should match the number of clusters from your GMM.\n",
    "    - `spam_indices` is a list of indices of spammy words in the vocabulary.\n",
    "    - `ham_indices` is a list of indices of hammy (typical business) words in the vocabulary."
   ]
  },
  {
   "cell_type": "code",
   "execution_count": 91,
   "metadata": {},
   "outputs": [],
   "source": [
    "def plot_spam_words_by_cluster(X, predicted, n_clusters, spam_indices, ham_indices):\n",
    "    import numpy as np\n",
    "    import matplotlib.pyplot as plt\n",
    "    \n",
    "    # Calculate mean TF-IDF features for each cluster\n",
    "    mean_tfidf_spam = []\n",
    "    mean_tfidf_ham = []\n",
    "    for spam in spam_indices:\n",
    "        mean_tfidf_spam.append([])\n",
    "    for ham in ham_indices:\n",
    "        mean_tfidf_ham.append([])\n",
    "    \n",
    "    for i in range(n_clusters):\n",
    "        for j, spam_idx in enumerate(spam_indices):\n",
    "            mean_tfidf_spam[j].append(X[predicted==i, spam_idx].mean())\n",
    "        for j, ham_idx in enumerate(ham_indices):\n",
    "            mean_tfidf_ham[j].append(X[predicted==i, ham_idx].mean())\n",
    "    \n",
    "    # Generate plot\n",
    "    fig, ax = plt.subplots()\n",
    "\n",
    "    ind = np.arange(n_clusters)    # the x locations for the groups\n",
    "    width = 0.10         # the width of the bars\n",
    "\n",
    "    # Plot spam bars\n",
    "    for i, val in enumerate(mean_tfidf_spam):\n",
    "        spam_bar = ax.bar(ind - (len(mean_tfidf_spam)-i-1)*width, val, width, color='r', bottom=0)\n",
    "\n",
    "    # Plot ham bars\n",
    "    for i, val in enumerate(mean_tfidf_ham):\n",
    "        ham_bar = ax.bar(ind + (len(mean_tfidf_ham)-i)*width, val, width,\n",
    "                color='y', bottom=0)\n",
    "\n",
    "    ax.set_title('Mean TF-IDF Features by Cluster for Spam-Relevant Words')\n",
    "    ax.set_xticks(ind + width / 2)\n",
    "    xticklabels = []\n",
    "    for i in range(n_clusters):\n",
    "        xticklabels.append('Cluster ' + str(i) + '\\n(n=' + str((predicted==i).sum()) + ')')\n",
    "    ax.set_xticklabels(xticklabels)\n",
    "\n",
    "    ax.legend((spam_bar[0], ham_bar[0]), ('Spammy words', 'Hammy words'))\n",
    "    ax.autoscale_view()\n",
    "    ax.set_ylabel('Mean TF-IDF')\n",
    "    plt.show()"
   ]
  },
  {
   "cell_type": "code",
   "execution_count": 92,
   "metadata": {},
   "outputs": [
    {
     "data": {
      "image/png": "[encoded data removed]",
      "text/plain": [
       "<Figure size 432x288 with 1 Axes>"
      ]
     },
     "metadata": {
      "needs_background": "light"
     },
     "output_type": "display_data"
    }
   ],
   "source": [
    "########################################################################\n",
    "######################### Write your code here #########################\n",
    "########################################################################\n",
    "   \n",
    "spammy_words = ['www','sale','offer']\n",
    "spam_indices=[]\n",
    "\n",
    "hammy_words = ['shareholder','report','meeting']\n",
    "ham_indices=[]\n",
    "for r,i in enumerate(vectorizer.vocabulary_):\n",
    "    if(i in spammy_words):\n",
    "        spam_indices.append(r)\n",
    "    if(i in hammy_words):\n",
    "         ham_indices.append(r)\n",
    "            \n",
    "plot_spam_words_by_cluster(X, labels, 3, spam_indices, ham_indices)\n"
   ]
  },
  {
   "cell_type": "markdown",
   "metadata": {},
   "source": [
    "### Part E: Interpret results [10 points]"
   ]
  },
  {
   "cell_type": "markdown",
   "metadata": {},
   "source": [
    "From the plot generated in part (d), do any of the clusters correspond to spam emails, based on the frequency of spammy and hammy words? Do any of the clusters appear to correspond to typical business emails (ham)? \n",
    "\n",
    "Re-run your analysis with a different choice for the number of clusters in your GMM (e.g., `n_clusters=5` or `n_clusters=2`). How does changing the number of clusters affect your results? Does one choice of `n_clusters` appear better than another for locating clusters of spam emails?"
   ]
  },
  {
   "cell_type": "markdown",
   "metadata": {},
   "source": [
    "*** WRITE YOUR ANSWER HERE IN TEXT ***\n",
    "When the number of clusters is 3, there seems to be no particular cluster/s that correspond to spam or ham emails based on the 3 spammy and hammy words chosen. Each of the three clusters have a good proportion of both spam and ham emails. \n",
    "\n",
    "When the number of clusters is 2, the spam and ham words are spread across the 2 clusters with both clusters having a similar proportion of the three words\n",
    "\n",
    "When the number of clusters is 5, the chosen three spam and ham words do not appear in cluster 1 & 4. They are mainly present in cluster 0,2 &3 with highest occurence in cluster 0. "
   ]
  },
  {
   "cell_type": "code",
   "execution_count": 93,
   "metadata": {},
   "outputs": [
    {
     "data": {
      "image/png": "[encoded data removed]",
      "text/plain": [
       "<Figure size 432x288 with 1 Axes>"
      ]
     },
     "metadata": {
      "needs_background": "light"
     },
     "output_type": "display_data"
    },
    {
     "data": {
      "image/png": "[encoded data removed]",
      "text/plain": [
       "<Figure size 432x288 with 1 Axes>"
      ]
     },
     "metadata": {
      "needs_background": "light"
     },
     "output_type": "display_data"
    }
   ],
   "source": [
    "########################################################################\n",
    "######################### Write your code here #########################\n",
    "########################################################################\n",
    "\n",
    "#if n_clusters=5\n",
    "gm1 = GaussianMixture(n_components=5,n_init=10, random_state=0).fit(X)\n",
    "predicted1 = gm1.predict(X) \n",
    "plot_spam_words_by_cluster(X, predicted1, 5, spam_indices, ham_indices)\n",
    "\n",
    "#if n_clusters=2  \n",
    "gm2 = GaussianMixture(n_components=2,n_init=10, random_state=0).fit(X)\n",
    "predicted2 = gm2.predict(X) \n",
    "plot_spam_words_by_cluster(X, predicted2, 2, spam_indices, ham_indices)"
   ]
  },
  {
   "cell_type": "markdown",
   "metadata": {},
   "source": [
    "## Question 2: Latent \"Purposes\" in Mobile Apps [45 points]\n",
    "\n",
    "\n",
    "Think of Android applications as \"documents\", where \"words\" are the \"permissions\" that each app requests. Each app has a set of latent \"purposes\" (topics); a \"purpose\" may be a specific task (such as taking photographs and uploading them to the internet), and an application may have a mixture of purposes of varying strength.\n",
    "\n",
    "Can we uncover these purposes from a dataset of Android applications and the permissions they request?"
   ]
  },
  {
   "cell_type": "code",
   "execution_count": 9,
   "metadata": {},
   "outputs": [],
   "source": [
    "import numpy as np\n",
    "import matplotlib.pyplot as plt\n",
    "import pandas as pd\n",
    "%matplotlib inline"
   ]
  },
  {
   "cell_type": "markdown",
   "metadata": {},
   "source": [
    "### Part A: Load the data [0 points]"
   ]
  },
  {
   "cell_type": "markdown",
   "metadata": {},
   "source": [
    "The [dataset](http://www.mariofrank.net/andrApps/) contains ~180,000 applications from the Android app store, including each app's name, description and permissions requested. For more about Android app permissions, see [this report](http://www.pewinternet.org/2015/11/10/an-analysis-of-android-app-permissions/).\n",
    "\n",
    "   * Download the data and unzip it into the same folder as this notebook.\n",
    "   * Rename the CSV file to \"android.csv\".\n",
    "   * Run the cells below to load the data into the notebook.\n",
    "\n",
    "This may take up ~2GB of RAM."
   ]
  },
  {
   "cell_type": "code",
   "execution_count": 10,
   "metadata": {},
   "outputs": [],
   "source": [
    "df = pd.read_csv(\"android.csv\", sep=\",\",  thousands=\",\")"
   ]
  },
  {
   "cell_type": "code",
   "execution_count": 11,
   "metadata": {},
   "outputs": [],
   "source": [
    "df[\"Number of ratings\"] = df[\"Number of ratings\"].astype(int) # fix data type\n",
    "df = df.drop_duplicates(subset=[\"App\"]).reset_index(drop=True)"
   ]
  },
  {
   "cell_type": "code",
   "execution_count": 12,
   "metadata": {},
   "outputs": [
    {
     "data": {
      "text/html": [
       "<div>\n",
       "<style scoped>\n",
       "    .dataframe tbody tr th:only-of-type {\n",
       "        vertical-align: middle;\n",
       "    }\n",
       "\n",
       "    .dataframe tbody tr th {\n",
       "        vertical-align: top;\n",
       "    }\n",
       "\n",
       "    .dataframe thead th {\n",
       "        text-align: right;\n",
       "    }\n",
       "</style>\n",
       "<table border=\"1\" class=\"dataframe\">\n",
       "  <thead>\n",
       "    <tr style=\"text-align: right;\">\n",
       "      <th></th>\n",
       "      <th>App</th>\n",
       "      <th>Package</th>\n",
       "      <th>Category</th>\n",
       "      <th>Description</th>\n",
       "      <th>Rating</th>\n",
       "      <th>Number of ratings</th>\n",
       "      <th>Price</th>\n",
       "      <th>Related apps</th>\n",
       "      <th>Dangerous permissions count</th>\n",
       "      <th>Safe permissions count</th>\n",
       "      <th>...</th>\n",
       "      <th>Your personal information : read Browser's history and bookmarks (D)</th>\n",
       "      <th>Your personal information : read calendar events (D)</th>\n",
       "      <th>Your personal information : read contact data (D)</th>\n",
       "      <th>Your personal information : read sensitive log data (D)</th>\n",
       "      <th>Your personal information : read user defined dictionary (D)</th>\n",
       "      <th>Your personal information : retrieve system internal state (S)</th>\n",
       "      <th>Your personal information : set alarm in alarm clock (S)</th>\n",
       "      <th>Your personal information : write Browser's history and bookmarks (D)</th>\n",
       "      <th>Your personal information : write contact data (D)</th>\n",
       "      <th>Your personal information : write to user defined dictionary (S)</th>\n",
       "    </tr>\n",
       "  </thead>\n",
       "  <tbody>\n",
       "    <tr>\n",
       "      <th>0</th>\n",
       "      <td>Google Maps</td>\n",
       "      <td>com.google.android.apps.maps</td>\n",
       "      <td>Travel &amp; Local</td>\n",
       "      <td>Download the latest release of Google Maps, an...</td>\n",
       "      <td>4.4</td>\n",
       "      <td>1438259</td>\n",
       "      <td>$0.00</td>\n",
       "      <td>{com.jsdfproductions.ctatrackerpro, com.alk.co...</td>\n",
       "      <td>17.0</td>\n",
       "      <td>8</td>\n",
       "      <td>...</td>\n",
       "      <td>0</td>\n",
       "      <td>0</td>\n",
       "      <td>1</td>\n",
       "      <td>0</td>\n",
       "      <td>0</td>\n",
       "      <td>0</td>\n",
       "      <td>0</td>\n",
       "      <td>0</td>\n",
       "      <td>1</td>\n",
       "      <td>0</td>\n",
       "    </tr>\n",
       "    <tr>\n",
       "      <th>1</th>\n",
       "      <td>Snowfall Live Wallpaper</td>\n",
       "      <td>fishnoodle.snowfall_free</td>\n",
       "      <td>Personalization</td>\n",
       "      <td>Snowfall Live Wallpaper: Wintertime on your ho...</td>\n",
       "      <td>4.3</td>\n",
       "      <td>18147</td>\n",
       "      <td>$0.00</td>\n",
       "      <td>{colfore.wallpaper.snowfree, com.tabsoft.wallp...</td>\n",
       "      <td>0.0</td>\n",
       "      <td>0</td>\n",
       "      <td>...</td>\n",
       "      <td>0</td>\n",
       "      <td>0</td>\n",
       "      <td>0</td>\n",
       "      <td>0</td>\n",
       "      <td>0</td>\n",
       "      <td>0</td>\n",
       "      <td>0</td>\n",
       "      <td>0</td>\n",
       "      <td>0</td>\n",
       "      <td>0</td>\n",
       "    </tr>\n",
       "    <tr>\n",
       "      <th>2</th>\n",
       "      <td>Aquarium Live Wallpaper</td>\n",
       "      <td>fishnoodle.aquarium_free</td>\n",
       "      <td>Personalization</td>\n",
       "      <td>A beautiful tropical fish tank live wallpaper!...</td>\n",
       "      <td>4.1</td>\n",
       "      <td>62145</td>\n",
       "      <td>$0.00</td>\n",
       "      <td>{com.convisual.lwp.fishometerlite, com.accessl...</td>\n",
       "      <td>0.0</td>\n",
       "      <td>0</td>\n",
       "      <td>...</td>\n",
       "      <td>0</td>\n",
       "      <td>0</td>\n",
       "      <td>0</td>\n",
       "      <td>0</td>\n",
       "      <td>0</td>\n",
       "      <td>0</td>\n",
       "      <td>0</td>\n",
       "      <td>0</td>\n",
       "      <td>0</td>\n",
       "      <td>0</td>\n",
       "    </tr>\n",
       "  </tbody>\n",
       "</table>\n",
       "<p>3 rows × 183 columns</p>\n",
       "</div>"
      ],
      "text/plain": [
       "                       App                       Package         Category  \\\n",
       "0              Google Maps  com.google.android.apps.maps   Travel & Local   \n",
       "1  Snowfall Live Wallpaper      fishnoodle.snowfall_free  Personalization   \n",
       "2  Aquarium Live Wallpaper      fishnoodle.aquarium_free  Personalization   \n",
       "\n",
       "                                         Description  Rating  \\\n",
       "0  Download the latest release of Google Maps, an...     4.4   \n",
       "1  Snowfall Live Wallpaper: Wintertime on your ho...     4.3   \n",
       "2  A beautiful tropical fish tank live wallpaper!...     4.1   \n",
       "\n",
       "   Number of ratings  Price  \\\n",
       "0            1438259  $0.00   \n",
       "1              18147  $0.00   \n",
       "2              62145  $0.00   \n",
       "\n",
       "                                        Related apps  \\\n",
       "0  {com.jsdfproductions.ctatrackerpro, com.alk.co...   \n",
       "1  {colfore.wallpaper.snowfree, com.tabsoft.wallp...   \n",
       "2  {com.convisual.lwp.fishometerlite, com.accessl...   \n",
       "\n",
       "   Dangerous permissions count  Safe permissions count  ...  \\\n",
       "0                         17.0                       8  ...   \n",
       "1                          0.0                       0  ...   \n",
       "2                          0.0                       0  ...   \n",
       "\n",
       "   Your personal information : read Browser's history and bookmarks (D)  \\\n",
       "0                                                  0                      \n",
       "1                                                  0                      \n",
       "2                                                  0                      \n",
       "\n",
       "   Your personal information : read calendar events (D)  \\\n",
       "0                                                  0      \n",
       "1                                                  0      \n",
       "2                                                  0      \n",
       "\n",
       "   Your personal information : read contact data (D)  \\\n",
       "0                                                  1   \n",
       "1                                                  0   \n",
       "2                                                  0   \n",
       "\n",
       "   Your personal information : read sensitive log data (D)  \\\n",
       "0                                                  0         \n",
       "1                                                  0         \n",
       "2                                                  0         \n",
       "\n",
       "   Your personal information : read user defined dictionary (D)  \\\n",
       "0                                                  0              \n",
       "1                                                  0              \n",
       "2                                                  0              \n",
       "\n",
       "   Your personal information : retrieve system internal state (S)  \\\n",
       "0                                                  0                \n",
       "1                                                  0                \n",
       "2                                                  0                \n",
       "\n",
       "   Your personal information : set alarm in alarm clock (S)  \\\n",
       "0                                                  0          \n",
       "1                                                  0          \n",
       "2                                                  0          \n",
       "\n",
       "   Your personal information : write Browser's history and bookmarks (D)  \\\n",
       "0                                                  0                       \n",
       "1                                                  0                       \n",
       "2                                                  0                       \n",
       "\n",
       "   Your personal information : write contact data (D)  \\\n",
       "0                                                  1    \n",
       "1                                                  0    \n",
       "2                                                  0    \n",
       "\n",
       "   Your personal information : write to user defined dictionary (S)  \n",
       "0                                                  0                 \n",
       "1                                                  0                 \n",
       "2                                                  0                 \n",
       "\n",
       "[3 rows x 183 columns]"
      ]
     },
     "execution_count": 12,
     "metadata": {},
     "output_type": "execute_result"
    }
   ],
   "source": [
    "df.head(n=3)"
   ]
  },
  {
   "cell_type": "markdown",
   "metadata": {},
   "source": [
    "### Part B: Convert each app into a \"document\" [0 points]\n",
    "\n",
    "The code below does the following:\n",
    "\n",
    "   * Filter out all the columns except the permission columns.\n",
    "   * Convert this dataframe into a numpy matrix.\n",
    "\n",
    "There are thus 180295 apps (documents) and 173 permissions (words).\n",
    "\n",
    "   - `X` is the \"document\" or \"word-frequency\" matrix.\n",
    "   - `permission_columns` contains the words ordered by their column index in X.\n",
    "   - `app_names` contains the application names ordered by their row index in X.\n",
    "   - `app_ratings` contains the *number* of application ratings (not the ratings themselves)."
   ]
  },
  {
   "cell_type": "code",
   "execution_count": 13,
   "metadata": {},
   "outputs": [],
   "source": [
    "permission_columns = list(df.columns[10:])\n",
    "app_names = list(df[\"App\"])\n",
    "app_ratings = np.array(df[\"Number of ratings\"])\n",
    "df_perms = df[permission_columns]\n",
    "X = df_perms.values\n",
    "#del df # uncomment to free up RAM\n",
    "#del df_perms # uncomment to free up RAM"
   ]
  },
  {
   "cell_type": "markdown",
   "metadata": {},
   "source": [
    "### Part C: Downweight \"stopwords\" [2.5 points]\n",
    "\n",
    "There are some permissions requested by almost all applications (like \"INTERNET\"), they are similar to stop-words (\"the\", \"and\", etc.) in natural language. We can downweight them by TF-IDF normalization.\n",
    "\n",
    "   * Use the `TfidfTransformer` class in `scikit-learn` to transform X."
   ]
  },
  {
   "cell_type": "code",
   "execution_count": 14,
   "metadata": {},
   "outputs": [],
   "source": [
    "########################################################################\n",
    "######################### Write your code here #########################\n",
    "########################################################################\n",
    "\n",
    "from sklearn.feature_extraction.text import TfidfTransformer\n",
    "from sklearn.feature_extraction.text import CountVectorizer\n",
    "\n",
    "\n",
    "transformer=TfidfTransformer() \n",
    "tfidf_mat= transformer.fit_transform(X)\n",
    "#transformer.get_feature_names_out(features_names_in)"
   ]
  },
  {
   "cell_type": "markdown",
   "metadata": {},
   "source": [
    "### Part D: Discover 10 \"topics\" [2.5 points]\n",
    "\n",
    "   * Use the `LatentDirichletAllocation` class in `scikit-learn` to fit 10 topics to the data.\n",
    "   * Use 10 max iterations, set `n_jobs=-1` to use all cores on your machine (if it helps).\n",
    "   * Feel free to understand and play around with other parameters.\n",
    "   * This may take around 3 minutes to run."
   ]
  },
  {
   "cell_type": "code",
   "execution_count": 15,
   "metadata": {},
   "outputs": [
    {
     "name": "stdout",
     "output_type": "stream",
     "text": [
      "Wall time: 1min 12s\n"
     ]
    },
    {
     "data": {
      "text/plain": [
       "LatentDirichletAllocation(n_jobs=-1, random_state=0)"
      ]
     },
     "execution_count": 15,
     "metadata": {},
     "output_type": "execute_result"
    }
   ],
   "source": [
    "%%time\n",
    "########################################################################\n",
    "######################### Write your code here #########################\n",
    "########################################################################\n",
    "\n",
    "from sklearn.decomposition import LatentDirichletAllocation\n",
    "lda = LatentDirichletAllocation(n_components=10,max_iter=10, n_jobs=-1,random_state=0)\n",
    "lda.fit(tfidf_mat)"
   ]
  },
  {
   "cell_type": "markdown",
   "metadata": {},
   "source": [
    "Now each app can be viewed as a distribution over these 10 topics, and each topic is a distribution over all the permissions in the data."
   ]
  },
  {
   "cell_type": "markdown",
   "metadata": {},
   "source": [
    "### Part E: List the top 10 \"words\" in each topic [15 points]\n",
    "\n",
    "Do any of the topics correspond to meaningful app \"purposes\"? List the ones you find meaningful below:\n",
    "\n",
    "   * Topic #i: \"your interpretation\""
   ]
  },
  {
   "cell_type": "code",
   "execution_count": 21,
   "metadata": {},
   "outputs": [
    {
     "name": "stdout",
     "output_type": "stream",
     "text": [
      "Topic 0 : Your location : coarse (network-based) location (D), Your location : fine (GPS) location (D), Network communication : full Internet access (D), Network communication : view network state (S), Phone calls : read phone state and identity (D), Storage : modify/delete USB storage contents modify/delete SD card contents (D), Services that cost you money : directly call phone numbers (D), Your personal information : read sensitive log data (D), Network communication : view Wi-Fi state (S), Default : access checkin properties (S)\n",
      "Topic 1 : Hardware controls : control vibrator (S), Network communication : full Internet access (D), Network communication : view network state (S), Storage : modify/delete USB storage contents modify/delete SD card contents (D), System tools : disable keylock (D), Phone calls : read phone state and identity (D), System tools : prevent device from sleeping (D), Hardware controls : change your audio settings (D), Default : modify battery statistics (S), System tools : modify global system settings (D)\n",
      "Topic 2 : Network communication : full Internet access (D), Network communication : view network state (S), Your accounts : Google Finance (D), Your personal information : read contact data (D), System tools : modify global system settings (D), Your accounts : view configured accounts (S), Your accounts : discover known accounts (S), Services that cost you money : send SMS messages (D), Your accounts : use the authentication credentials of an account (D), Your messages : receive SMS (D)\n",
      "Topic 3 : Your accounts : discover known accounts (S), Default : directly install applications (S), Your accounts : use the authentication credentials of an account (D), Storage : modify/delete USB storage contents modify/delete SD card contents (D), Network communication : view network state (S), System tools : prevent device from sleeping (D), Network communication : full Internet access (D), Your accounts : manage the accounts list (D), Default : delete applications (S), Phone calls : read phone state and identity (D)\n",
      "Topic 4 : System tools : prevent device from sleeping (D), Network communication : full Internet access (D), System tools : automatically start at boot (S), Storage : modify/delete USB storage contents modify/delete SD card contents (D), Network communication : view network state (S), Phone calls : read phone state and identity (D), Hardware controls : control vibrator (S), System tools : change your UI settings (D), System tools : set wallpaper size hints (S), System tools : set wallpaper (S)\n",
      "Topic 5 : Storage : modify/delete USB storage contents modify/delete SD card contents (D), System tools : set wallpaper (S), Network communication : full Internet access (D), Network communication : view network state (S), Phone calls : read phone state and identity (D), System tools : mount and unmount filesystems (D), Default : bind to a wallpaper (S), Default : write instant messages (S), Default : read instant messages (S), Hardware controls : take pictures and videos (D)\n",
      "Topic 6 : Hardware controls : take pictures and videos (D), Hardware controls : record audio (D), Storage : modify/delete USB storage contents modify/delete SD card contents (D), Your location : fine (GPS) location (D), Your location : coarse (network-based) location (D), Network communication : full Internet access (D), Network communication : view network state (S), Hardware controls : control vibrator (S), Your location : access extra location provider commands (S), Phone calls : read phone state and identity (D)\n",
      "Topic 7 : Network communication : view Wi-Fi state (S), Phone calls : read phone state and identity (D), Network communication : view network state (S), Network communication : full Internet access (D), Storage : modify/delete USB storage contents modify/delete SD card contents (D), System tools : change Wi-Fi state (D), Network communication : create Bluetooth connections (D), System tools : bluetooth administration (D), System tools : change network connectivity (D), System tools : allow Wi-Fi Multicast reception (D)\n",
      "Topic 8 : System tools : retrieve running applications (D), Phone calls : read phone state and identity (D), Services that cost you money : directly call phone numbers (D), Network communication : view network state (S), Network communication : receive data from Internet (S), Network communication : full Internet access (D), Storage : modify/delete USB storage contents modify/delete SD card contents (D), System tools : prevent device from sleeping (D), Hardware controls : control vibrator (S), Your location : fine (GPS) location (D)\n",
      "Topic 9 : Your personal information : read contact data (D), Services that cost you money : send SMS messages (D), System tools : modify global system settings (D), Phone calls : read phone state and identity (D), Your messages : receive SMS (D), Network communication : full Internet access (D), Your personal information : write contact data (D), Your messages : read SMS or MMS (D), Phone calls : intercept outgoing calls (D), System tools : automatically start at boot (S)\n"
     ]
    }
   ],
   "source": [
    "########################################################################\n",
    "######################### Write your code here #########################\n",
    "########################################################################\n",
    "\n",
    "alltopics_top_words = []\n",
    "top_words = np.zeros(len(lda.components_))\n",
    "for topic_idx, word_dist in enumerate(lda.components_):\n",
    "    top_word_indices = np.argsort(-word_dist)[:10]\n",
    "    top_words = [permission_columns[word_idx] for word_idx in top_word_indices]\n",
    "    alltopics_top_words.append(top_word\n",
    "    print('Topic', topic_idx, ':', ', '.join(top_words))"
   ]
  },
  {
   "cell_type": "markdown",
   "metadata": {},
   "source": [
    "*** WRITE YOUR ANSWER HERE IN TEXT ***\n",
    "\n",
    "Each of the topic seem to correspond to meaningful purposes. In the given topics, there seems to be a task assigned to a subtopic. For example, in Topic 9, the purpose is to send SMS messages under services the cost money. Topic 9 seems to be centered around communication such as making phone calls and passing messages."
   ]
  },
  {
   "cell_type": "markdown",
   "metadata": {},
   "source": [
    "### Part F: For each topic, list the top 3 apps with at least 100000 ratings having the highest probability assigned to that topic [15 points]\n",
    "\n",
    "   - This further helps us understand what the topics actually mean.\n",
    "   - However, the data is noisy and this exercise may result in listing a bunch of obscure apps.\n",
    "   - Hence, filtering out all apps with less than 100000 ratings may help."
   ]
  },
  {
   "cell_type": "code",
   "execution_count": 47,
   "metadata": {},
   "outputs": [
    {
     "name": "stdout",
     "output_type": "stream",
     "text": [
      "Topic 0 : Air Control Lite\n",
      "Topic 0 : Dictionary.com\n",
      "Topic 0 : Paper Toss\n",
      "Topic 1 : Vaulty Free Hides Pictures\n",
      "Topic 1 : Live Holdem Poker Pro\n",
      "Topic 1 : Drag Racing\n",
      "Topic 2 : Yoo Ninja! Free\n",
      "Topic 2 : Angry Birds Seasons\n",
      "Topic 2 : Adobe Reader\n",
      "Topic 3 : Lookout Security & Antivirus\n",
      "Topic 3 : Antivirus Free\n",
      "Topic 3 : Skype\n",
      "Topic 4 : Real BlackJack\n",
      "Topic 4 : Alchemy\n",
      "Topic 4 : Tank Hero\n",
      "Topic 5 : World Newspapers\n",
      "Topic 5 : Paradise Island\n",
      "Topic 5 : My Country\n",
      "Topic 6 : Brightest Flashlight Free™\n",
      "Topic 6 : Brightest Flashlight Free???\n",
      "Topic 6 : Tiny Flashlight + LED\n",
      "Topic 7 : Slice It!\n",
      "Topic 7 : Racing Moto\n",
      "Topic 7 : Blast Monkeys\n",
      "Topic 8 : TuneIn Radio\n",
      "Topic 8 : Restaurant Story???\n",
      "Topic 8 : Restaurant Story™\n",
      "Topic 9 : chompSMS\n",
      "Topic 9 : Ringdroid\n",
      "Topic 9 : Google Sky Map\n"
     ]
    }
   ],
   "source": [
    "########################################################################\n",
    "######################### Write your code here #########################\n",
    "########################################################################\n",
    "\n",
    "proportions = lda.transform(tfidf_mat)\n",
    "topic_size = np.transpose(proportions)\n",
    "top_app_per_topic = []\n",
    "\n",
    "for topic_idx in range(len(topic_size)):\n",
    "    count = 0\n",
    "    sort_indices = np.argsort(-topic_size[topic_idx]) \n",
    "    for word_idx in range(len(app_names)): \n",
    "        topApp=sort_indices[word_idx]\n",
    "        if(app_ratings[topApp]>=100000 and count<3):\n",
    "            top_app_per_topic.append(app_names[topApp])\n",
    "            count+= 1\n",
    "            print('Topic', topic_idx, ':' ,app_names[topApp])        "
   ]
  },
  {
   "cell_type": "markdown",
   "metadata": {},
   "source": [
    "### Part G: Visualize the document-topic proportion matrix in 2-D using t-SNE [10 points]\n",
    "\n",
    "Does our reduced dimensional space contain any structure? Visualize the documents (in the topic-space) using t-SNE.\n",
    "\n",
    "   * Use `TSNE` from `scikit-learn`.\n",
    "   * Set the angle to 0.99 and init to 'PCA'. Pick any learning rate that gives you a visually pleasing result.\n",
    "   * You may `fit` TSNE to a sample of the data (>1000 documents) instead of the full data.\n",
    "   * Remember to call `fit_transform` to obtain your 2-D data.\n",
    "   * Plot the t-SNE dimensions as a scatterplot.\n",
    "   * Color each point based on its most probable topic. Make sure you include a legend (10 colors).\n",
    "   \n",
    "Clusters in the t-SNE plot indicate groups of apps that have similar topics."
   ]
  },
  {
   "cell_type": "code",
   "execution_count": 86,
   "metadata": {},
   "outputs": [
    {
     "name": "stdout",
     "output_type": "stream",
     "text": [
      "Wall time: 1.91 s\n"
     ]
    },
    {
     "data": {
      "text/plain": [
       "<matplotlib.legend.Legend at 0x1c0ecaa0790>"
      ]
     },
     "execution_count": 86,
     "metadata": {},
     "output_type": "execute_result"
    },
    {
     "data": {
      "image/png": "[encoded data removed]",
      "text/plain": [
       "<Figure size 432x288 with 1 Axes>"
      ]
     },
     "metadata": {
      "needs_background": "light"
     },
     "output_type": "display_data"
    }
   ],
   "source": [
    "%%time\n",
    "########################################################################\n",
    "######################### Write your code here #########################\n",
    "########################################################################\n",
    "\n",
    "from sklearn.manifold import TSNE\n",
    "proportions = proportions[:1001,:]\n",
    "tsne = TSNE(n_components=2, angle = 0.99, init='pca')\n",
    "X_tsne2d = tsne.fit_transform(proportions)\n",
    "high_prob_topics=[]      \n",
    "for topic_idx in range(len(proportions)):\n",
    "    sort_indices = np.argsort(-proportions[topic_idx]) \n",
    "    high_prob_topics.append(sort_indices[0])\n",
    "\n",
    "variables = ['Topic 0','Topic 1','Topic 2','Topic 3','Topic 4','Topic 5','Topic 6','Topic 7','Topic 8','Topic 9']\n",
    "scatter = plt.scatter(X_tsne2d[:, 0], X_tsne2d[:, 1],c=high_prob_topics, cmap='Set2')\n",
    "plt.legend(handles=scatter.legend_elements()[0], labels=variables)"
   ]
  }
 ],
 "metadata": {
  "kernelspec": {
   "display_name": "Python 3",
   "language": "python",
   "name": "python3"
  },
  "language_info": {
   "codemirror_mode": {
    "name": "ipython",
    "version": 3
   },
   "file_extension": ".py",
   "mimetype": "text/x-python",
   "name": "python",
   "nbconvert_exporter": "python",
   "pygments_lexer": "ipython3",
   "version": "3.8.8"
  }
 },
 "nbformat": 4,
 "nbformat_minor": 2
}
